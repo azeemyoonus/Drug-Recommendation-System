{
 "cells": [
  {
   "cell_type": "code",
   "execution_count": 3,
   "metadata": {
    "id": "0w4uA2iWszLN"
   },
   "outputs": [],
   "source": [
    "import numpy as np\n",
    "import pandas as pd\n",
    "\n",
    "import matplotlib.pyplot as plt\n",
    "import seaborn as sns"
   ]
  },
  {
   "cell_type": "code",
   "execution_count": 4,
   "metadata": {
    "colab": {
     "base_uri": "https://localhost:8080/"
    },
    "id": "EGyE3eoys8Ev",
    "outputId": "f7157bb7-e6e3-4211-b280-ce4177d6ab54"
   },
   "outputs": [
    {
     "ename": "FileNotFoundError",
     "evalue": "[Errno 2] No such file or directory: 'training_data.csv'",
     "output_type": "error",
     "traceback": [
      "\u001b[0;31m---------------------------------------------------------------------------\u001b[0m",
      "\u001b[0;31mFileNotFoundError\u001b[0m                         Traceback (most recent call last)",
      "Cell \u001b[0;32mIn[4], line 3\u001b[0m\n\u001b[1;32m      1\u001b[0m \u001b[38;5;66;03m# reading the data\u001b[39;00m\n\u001b[0;32m----> 3\u001b[0m train \u001b[38;5;241m=\u001b[39m \u001b[43mpd\u001b[49m\u001b[38;5;241;43m.\u001b[39;49m\u001b[43mread_csv\u001b[49m\u001b[43m(\u001b[49m\u001b[38;5;124;43m'\u001b[39;49m\u001b[38;5;124;43mtraining_data.csv\u001b[39;49m\u001b[38;5;124;43m'\u001b[39;49m\u001b[43m)\u001b[49m\n\u001b[1;32m      4\u001b[0m test \u001b[38;5;241m=\u001b[39m pd\u001b[38;5;241m.\u001b[39mread_csv(\u001b[38;5;124m'\u001b[39m\u001b[38;5;124mtesting_data.csv\u001b[39m\u001b[38;5;124m'\u001b[39m)\n\u001b[1;32m      6\u001b[0m \u001b[38;5;66;03m# getting the shapes\u001b[39;00m\n",
      "File \u001b[0;32m~/Documents/ACE/.venv/lib/python3.10/site-packages/pandas/io/parsers/readers.py:1026\u001b[0m, in \u001b[0;36mread_csv\u001b[0;34m(filepath_or_buffer, sep, delimiter, header, names, index_col, usecols, dtype, engine, converters, true_values, false_values, skipinitialspace, skiprows, skipfooter, nrows, na_values, keep_default_na, na_filter, verbose, skip_blank_lines, parse_dates, infer_datetime_format, keep_date_col, date_parser, date_format, dayfirst, cache_dates, iterator, chunksize, compression, thousands, decimal, lineterminator, quotechar, quoting, doublequote, escapechar, comment, encoding, encoding_errors, dialect, on_bad_lines, delim_whitespace, low_memory, memory_map, float_precision, storage_options, dtype_backend)\u001b[0m\n\u001b[1;32m   1013\u001b[0m kwds_defaults \u001b[38;5;241m=\u001b[39m _refine_defaults_read(\n\u001b[1;32m   1014\u001b[0m     dialect,\n\u001b[1;32m   1015\u001b[0m     delimiter,\n\u001b[0;32m   (...)\u001b[0m\n\u001b[1;32m   1022\u001b[0m     dtype_backend\u001b[38;5;241m=\u001b[39mdtype_backend,\n\u001b[1;32m   1023\u001b[0m )\n\u001b[1;32m   1024\u001b[0m kwds\u001b[38;5;241m.\u001b[39mupdate(kwds_defaults)\n\u001b[0;32m-> 1026\u001b[0m \u001b[38;5;28;01mreturn\u001b[39;00m \u001b[43m_read\u001b[49m\u001b[43m(\u001b[49m\u001b[43mfilepath_or_buffer\u001b[49m\u001b[43m,\u001b[49m\u001b[43m \u001b[49m\u001b[43mkwds\u001b[49m\u001b[43m)\u001b[49m\n",
      "File \u001b[0;32m~/Documents/ACE/.venv/lib/python3.10/site-packages/pandas/io/parsers/readers.py:620\u001b[0m, in \u001b[0;36m_read\u001b[0;34m(filepath_or_buffer, kwds)\u001b[0m\n\u001b[1;32m    617\u001b[0m _validate_names(kwds\u001b[38;5;241m.\u001b[39mget(\u001b[38;5;124m\"\u001b[39m\u001b[38;5;124mnames\u001b[39m\u001b[38;5;124m\"\u001b[39m, \u001b[38;5;28;01mNone\u001b[39;00m))\n\u001b[1;32m    619\u001b[0m \u001b[38;5;66;03m# Create the parser.\u001b[39;00m\n\u001b[0;32m--> 620\u001b[0m parser \u001b[38;5;241m=\u001b[39m \u001b[43mTextFileReader\u001b[49m\u001b[43m(\u001b[49m\u001b[43mfilepath_or_buffer\u001b[49m\u001b[43m,\u001b[49m\u001b[43m \u001b[49m\u001b[38;5;241;43m*\u001b[39;49m\u001b[38;5;241;43m*\u001b[39;49m\u001b[43mkwds\u001b[49m\u001b[43m)\u001b[49m\n\u001b[1;32m    622\u001b[0m \u001b[38;5;28;01mif\u001b[39;00m chunksize \u001b[38;5;129;01mor\u001b[39;00m iterator:\n\u001b[1;32m    623\u001b[0m     \u001b[38;5;28;01mreturn\u001b[39;00m parser\n",
      "File \u001b[0;32m~/Documents/ACE/.venv/lib/python3.10/site-packages/pandas/io/parsers/readers.py:1620\u001b[0m, in \u001b[0;36mTextFileReader.__init__\u001b[0;34m(self, f, engine, **kwds)\u001b[0m\n\u001b[1;32m   1617\u001b[0m     \u001b[38;5;28mself\u001b[39m\u001b[38;5;241m.\u001b[39moptions[\u001b[38;5;124m\"\u001b[39m\u001b[38;5;124mhas_index_names\u001b[39m\u001b[38;5;124m\"\u001b[39m] \u001b[38;5;241m=\u001b[39m kwds[\u001b[38;5;124m\"\u001b[39m\u001b[38;5;124mhas_index_names\u001b[39m\u001b[38;5;124m\"\u001b[39m]\n\u001b[1;32m   1619\u001b[0m \u001b[38;5;28mself\u001b[39m\u001b[38;5;241m.\u001b[39mhandles: IOHandles \u001b[38;5;241m|\u001b[39m \u001b[38;5;28;01mNone\u001b[39;00m \u001b[38;5;241m=\u001b[39m \u001b[38;5;28;01mNone\u001b[39;00m\n\u001b[0;32m-> 1620\u001b[0m \u001b[38;5;28mself\u001b[39m\u001b[38;5;241m.\u001b[39m_engine \u001b[38;5;241m=\u001b[39m \u001b[38;5;28;43mself\u001b[39;49m\u001b[38;5;241;43m.\u001b[39;49m\u001b[43m_make_engine\u001b[49m\u001b[43m(\u001b[49m\u001b[43mf\u001b[49m\u001b[43m,\u001b[49m\u001b[43m \u001b[49m\u001b[38;5;28;43mself\u001b[39;49m\u001b[38;5;241;43m.\u001b[39;49m\u001b[43mengine\u001b[49m\u001b[43m)\u001b[49m\n",
      "File \u001b[0;32m~/Documents/ACE/.venv/lib/python3.10/site-packages/pandas/io/parsers/readers.py:1880\u001b[0m, in \u001b[0;36mTextFileReader._make_engine\u001b[0;34m(self, f, engine)\u001b[0m\n\u001b[1;32m   1878\u001b[0m     \u001b[38;5;28;01mif\u001b[39;00m \u001b[38;5;124m\"\u001b[39m\u001b[38;5;124mb\u001b[39m\u001b[38;5;124m\"\u001b[39m \u001b[38;5;129;01mnot\u001b[39;00m \u001b[38;5;129;01min\u001b[39;00m mode:\n\u001b[1;32m   1879\u001b[0m         mode \u001b[38;5;241m+\u001b[39m\u001b[38;5;241m=\u001b[39m \u001b[38;5;124m\"\u001b[39m\u001b[38;5;124mb\u001b[39m\u001b[38;5;124m\"\u001b[39m\n\u001b[0;32m-> 1880\u001b[0m \u001b[38;5;28mself\u001b[39m\u001b[38;5;241m.\u001b[39mhandles \u001b[38;5;241m=\u001b[39m \u001b[43mget_handle\u001b[49m\u001b[43m(\u001b[49m\n\u001b[1;32m   1881\u001b[0m \u001b[43m    \u001b[49m\u001b[43mf\u001b[49m\u001b[43m,\u001b[49m\n\u001b[1;32m   1882\u001b[0m \u001b[43m    \u001b[49m\u001b[43mmode\u001b[49m\u001b[43m,\u001b[49m\n\u001b[1;32m   1883\u001b[0m \u001b[43m    \u001b[49m\u001b[43mencoding\u001b[49m\u001b[38;5;241;43m=\u001b[39;49m\u001b[38;5;28;43mself\u001b[39;49m\u001b[38;5;241;43m.\u001b[39;49m\u001b[43moptions\u001b[49m\u001b[38;5;241;43m.\u001b[39;49m\u001b[43mget\u001b[49m\u001b[43m(\u001b[49m\u001b[38;5;124;43m\"\u001b[39;49m\u001b[38;5;124;43mencoding\u001b[39;49m\u001b[38;5;124;43m\"\u001b[39;49m\u001b[43m,\u001b[49m\u001b[43m \u001b[49m\u001b[38;5;28;43;01mNone\u001b[39;49;00m\u001b[43m)\u001b[49m\u001b[43m,\u001b[49m\n\u001b[1;32m   1884\u001b[0m \u001b[43m    \u001b[49m\u001b[43mcompression\u001b[49m\u001b[38;5;241;43m=\u001b[39;49m\u001b[38;5;28;43mself\u001b[39;49m\u001b[38;5;241;43m.\u001b[39;49m\u001b[43moptions\u001b[49m\u001b[38;5;241;43m.\u001b[39;49m\u001b[43mget\u001b[49m\u001b[43m(\u001b[49m\u001b[38;5;124;43m\"\u001b[39;49m\u001b[38;5;124;43mcompression\u001b[39;49m\u001b[38;5;124;43m\"\u001b[39;49m\u001b[43m,\u001b[49m\u001b[43m \u001b[49m\u001b[38;5;28;43;01mNone\u001b[39;49;00m\u001b[43m)\u001b[49m\u001b[43m,\u001b[49m\n\u001b[1;32m   1885\u001b[0m \u001b[43m    \u001b[49m\u001b[43mmemory_map\u001b[49m\u001b[38;5;241;43m=\u001b[39;49m\u001b[38;5;28;43mself\u001b[39;49m\u001b[38;5;241;43m.\u001b[39;49m\u001b[43moptions\u001b[49m\u001b[38;5;241;43m.\u001b[39;49m\u001b[43mget\u001b[49m\u001b[43m(\u001b[49m\u001b[38;5;124;43m\"\u001b[39;49m\u001b[38;5;124;43mmemory_map\u001b[39;49m\u001b[38;5;124;43m\"\u001b[39;49m\u001b[43m,\u001b[49m\u001b[43m \u001b[49m\u001b[38;5;28;43;01mFalse\u001b[39;49;00m\u001b[43m)\u001b[49m\u001b[43m,\u001b[49m\n\u001b[1;32m   1886\u001b[0m \u001b[43m    \u001b[49m\u001b[43mis_text\u001b[49m\u001b[38;5;241;43m=\u001b[39;49m\u001b[43mis_text\u001b[49m\u001b[43m,\u001b[49m\n\u001b[1;32m   1887\u001b[0m \u001b[43m    \u001b[49m\u001b[43merrors\u001b[49m\u001b[38;5;241;43m=\u001b[39;49m\u001b[38;5;28;43mself\u001b[39;49m\u001b[38;5;241;43m.\u001b[39;49m\u001b[43moptions\u001b[49m\u001b[38;5;241;43m.\u001b[39;49m\u001b[43mget\u001b[49m\u001b[43m(\u001b[49m\u001b[38;5;124;43m\"\u001b[39;49m\u001b[38;5;124;43mencoding_errors\u001b[39;49m\u001b[38;5;124;43m\"\u001b[39;49m\u001b[43m,\u001b[49m\u001b[43m \u001b[49m\u001b[38;5;124;43m\"\u001b[39;49m\u001b[38;5;124;43mstrict\u001b[39;49m\u001b[38;5;124;43m\"\u001b[39;49m\u001b[43m)\u001b[49m\u001b[43m,\u001b[49m\n\u001b[1;32m   1888\u001b[0m \u001b[43m    \u001b[49m\u001b[43mstorage_options\u001b[49m\u001b[38;5;241;43m=\u001b[39;49m\u001b[38;5;28;43mself\u001b[39;49m\u001b[38;5;241;43m.\u001b[39;49m\u001b[43moptions\u001b[49m\u001b[38;5;241;43m.\u001b[39;49m\u001b[43mget\u001b[49m\u001b[43m(\u001b[49m\u001b[38;5;124;43m\"\u001b[39;49m\u001b[38;5;124;43mstorage_options\u001b[39;49m\u001b[38;5;124;43m\"\u001b[39;49m\u001b[43m,\u001b[49m\u001b[43m \u001b[49m\u001b[38;5;28;43;01mNone\u001b[39;49;00m\u001b[43m)\u001b[49m\u001b[43m,\u001b[49m\n\u001b[1;32m   1889\u001b[0m \u001b[43m\u001b[49m\u001b[43m)\u001b[49m\n\u001b[1;32m   1890\u001b[0m \u001b[38;5;28;01massert\u001b[39;00m \u001b[38;5;28mself\u001b[39m\u001b[38;5;241m.\u001b[39mhandles \u001b[38;5;129;01mis\u001b[39;00m \u001b[38;5;129;01mnot\u001b[39;00m \u001b[38;5;28;01mNone\u001b[39;00m\n\u001b[1;32m   1891\u001b[0m f \u001b[38;5;241m=\u001b[39m \u001b[38;5;28mself\u001b[39m\u001b[38;5;241m.\u001b[39mhandles\u001b[38;5;241m.\u001b[39mhandle\n",
      "File \u001b[0;32m~/Documents/ACE/.venv/lib/python3.10/site-packages/pandas/io/common.py:873\u001b[0m, in \u001b[0;36mget_handle\u001b[0;34m(path_or_buf, mode, encoding, compression, memory_map, is_text, errors, storage_options)\u001b[0m\n\u001b[1;32m    868\u001b[0m \u001b[38;5;28;01melif\u001b[39;00m \u001b[38;5;28misinstance\u001b[39m(handle, \u001b[38;5;28mstr\u001b[39m):\n\u001b[1;32m    869\u001b[0m     \u001b[38;5;66;03m# Check whether the filename is to be opened in binary mode.\u001b[39;00m\n\u001b[1;32m    870\u001b[0m     \u001b[38;5;66;03m# Binary mode does not support 'encoding' and 'newline'.\u001b[39;00m\n\u001b[1;32m    871\u001b[0m     \u001b[38;5;28;01mif\u001b[39;00m ioargs\u001b[38;5;241m.\u001b[39mencoding \u001b[38;5;129;01mand\u001b[39;00m \u001b[38;5;124m\"\u001b[39m\u001b[38;5;124mb\u001b[39m\u001b[38;5;124m\"\u001b[39m \u001b[38;5;129;01mnot\u001b[39;00m \u001b[38;5;129;01min\u001b[39;00m ioargs\u001b[38;5;241m.\u001b[39mmode:\n\u001b[1;32m    872\u001b[0m         \u001b[38;5;66;03m# Encoding\u001b[39;00m\n\u001b[0;32m--> 873\u001b[0m         handle \u001b[38;5;241m=\u001b[39m \u001b[38;5;28;43mopen\u001b[39;49m\u001b[43m(\u001b[49m\n\u001b[1;32m    874\u001b[0m \u001b[43m            \u001b[49m\u001b[43mhandle\u001b[49m\u001b[43m,\u001b[49m\n\u001b[1;32m    875\u001b[0m \u001b[43m            \u001b[49m\u001b[43mioargs\u001b[49m\u001b[38;5;241;43m.\u001b[39;49m\u001b[43mmode\u001b[49m\u001b[43m,\u001b[49m\n\u001b[1;32m    876\u001b[0m \u001b[43m            \u001b[49m\u001b[43mencoding\u001b[49m\u001b[38;5;241;43m=\u001b[39;49m\u001b[43mioargs\u001b[49m\u001b[38;5;241;43m.\u001b[39;49m\u001b[43mencoding\u001b[49m\u001b[43m,\u001b[49m\n\u001b[1;32m    877\u001b[0m \u001b[43m            \u001b[49m\u001b[43merrors\u001b[49m\u001b[38;5;241;43m=\u001b[39;49m\u001b[43merrors\u001b[49m\u001b[43m,\u001b[49m\n\u001b[1;32m    878\u001b[0m \u001b[43m            \u001b[49m\u001b[43mnewline\u001b[49m\u001b[38;5;241;43m=\u001b[39;49m\u001b[38;5;124;43m\"\u001b[39;49m\u001b[38;5;124;43m\"\u001b[39;49m\u001b[43m,\u001b[49m\n\u001b[1;32m    879\u001b[0m \u001b[43m        \u001b[49m\u001b[43m)\u001b[49m\n\u001b[1;32m    880\u001b[0m     \u001b[38;5;28;01melse\u001b[39;00m:\n\u001b[1;32m    881\u001b[0m         \u001b[38;5;66;03m# Binary mode\u001b[39;00m\n\u001b[1;32m    882\u001b[0m         handle \u001b[38;5;241m=\u001b[39m \u001b[38;5;28mopen\u001b[39m(handle, ioargs\u001b[38;5;241m.\u001b[39mmode)\n",
      "\u001b[0;31mFileNotFoundError\u001b[0m: [Errno 2] No such file or directory: 'training_data.csv'"
     ]
    }
   ],
   "source": [
    "# reading the data\n",
    "\n",
    "train = pd.read_csv('training_data.csv')\n",
    "test = pd.read_csv('testing_data.csv')\n",
    "\n",
    "# getting the shapes\n",
    "print(\"Shape of train :\", train.shape)\n",
    "print(\"Shape of test :\", test.shape)"
   ]
  },
  {
   "cell_type": "code",
   "execution_count": null,
   "metadata": {
    "colab": {
     "base_uri": "https://localhost:8080/"
    },
    "id": "3ks0YLrduD8P",
    "outputId": "8e0656e1-99b7-446d-f30c-7c000fec7628"
   },
   "outputs": [
    {
     "data": {
      "text/plain": [
       "(215063, 7)"
      ]
     },
     "execution_count": 7,
     "metadata": {},
     "output_type": "execute_result"
    }
   ],
   "source": [
    "# as both the dataset contains same columns we can combine them for better analysis\n",
    "\n",
    "data = pd.concat([train, test])\n",
    "\n",
    "# checking the shape\n",
    "data.shape"
   ]
  },
  {
   "cell_type": "code",
   "execution_count": 8,
   "metadata": {
    "colab": {
     "base_uri": "https://localhost:8080/"
    },
    "id": "tzyF23PkqNqV",
    "outputId": "574d2a36-6758-4f20-8a86-41f3c31ffe68"
   },
   "outputs": [
    {
     "data": {
      "text/plain": [
       "Review_Sentiment\n",
       "1.0    161491\n",
       "0.0     53572\n",
       "Name: count, dtype: int64"
      ]
     },
     "execution_count": 8,
     "metadata": {},
     "output_type": "execute_result"
    }
   ],
   "source": [
    "# feature engineering\n",
    "# let's make a new column review sentiment\n",
    "\n",
    "data.loc[(data['rating'] >= 5), 'Review_Sentiment'] = 1\n",
    "data.loc[(data['rating'] < 5), 'Review_Sentiment'] = 0\n",
    "\n",
    "data['Review_Sentiment'].value_counts()"
   ]
  },
  {
   "cell_type": "code",
   "execution_count": 9,
   "metadata": {
    "id": "eyj36PqYJ609"
   },
   "outputs": [
    {
     "name": "stderr",
     "output_type": "stream",
     "text": [
      "C:\\Users\\LENOVA\\AppData\\Local\\Temp\\ipykernel_30452\\2467299954.py:2: UserWarning: Could not infer format, so each element will be parsed individually, falling back to `dateutil`. To ensure parsing is consistent and as-expected, please specify a format.\n",
      "  data['date'] = pd.to_datetime(data['date'], errors = 'coerce')\n"
     ]
    }
   ],
   "source": [
    "\n",
    "# converting the date into datetime format\n",
    "data['date'] = pd.to_datetime(data['date'], errors = 'coerce')\n",
    "\n",
    "# now extracting year from date\n",
    "data['Year'] = data['date'].dt.year\n",
    "\n",
    "# extracting the month from the date\n",
    "data['month'] = data['date'].dt.month\n",
    "\n",
    "# extracting the days from the date\n",
    "data['day'] = data['date'].dt.day"
   ]
  },
  {
   "cell_type": "code",
   "execution_count": 10,
   "metadata": {
    "colab": {
     "base_uri": "https://localhost:8080/"
    },
    "id": "RhKdQzQXpAe2",
    "outputId": "2720d44b-34dd-43f2-b414-6556c07d3bcc"
   },
   "outputs": [
    {
     "data": {
      "text/plain": [
       "(213869, 11)"
      ]
     },
     "execution_count": 10,
     "metadata": {},
     "output_type": "execute_result"
    }
   ],
   "source": [
    "# we will delete the rows so that the data does not overfits\n",
    "\n",
    "data = data.dropna(axis = 0)\n",
    "\n",
    "# checking the new shape of the data\n",
    "data.shape"
   ]
  },
  {
   "cell_type": "code",
   "execution_count": 11,
   "metadata": {
    "colab": {
     "base_uri": "https://localhost:8080/"
    },
    "id": "YbYBHSPfpz1m",
    "outputId": "d8a8979a-454a-49ff-e103-c4ce35b9b763"
   },
   "outputs": [
    {
     "name": "stderr",
     "output_type": "stream",
     "text": [
      "[nltk_data] Downloading package stopwords to\n",
      "[nltk_data]     C:\\Users\\LENOVA\\AppData\\Roaming\\nltk_data...\n",
      "[nltk_data]   Package stopwords is already up-to-date!\n"
     ]
    }
   ],
   "source": [
    "# importing the important libraries \n",
    "\n",
    "import re\n",
    "from bs4 import BeautifulSoup\n",
    "import nltk\n",
    "nltk.download('stopwords')\n",
    "from nltk.corpus import stopwords\n",
    "from nltk.stem.snowball import SnowballStemmer\n",
    "from nltk.stem.porter import PorterStemmer"
   ]
  },
  {
   "cell_type": "code",
   "execution_count": 12,
   "metadata": {
    "id": "-GHICMx7qEJ9"
   },
   "outputs": [],
   "source": [
    "# removing some stopwords from the list of stopwords as they are important for drug recommendation\n",
    "\n",
    "stops = set(stopwords.words('english'))\n",
    "\n",
    "not_stop = [\"aren't\",\"couldn't\",\"didn't\",\"doesn't\",\"don't\",\"hadn't\",\"hasn't\",\"haven't\",\"isn't\",\"mightn't\",\n",
    "            \"mustn't\",\"needn't\",\"no\",\"nor\",\"not\",\"shan't\",\"shouldn't\",\"wasn't\",\"weren't\",\"wouldn't\"]\n",
    "for i in not_stop:\n",
    "    stops.remove(i)"
   ]
  },
  {
   "cell_type": "code",
   "execution_count": 13,
   "metadata": {
    "colab": {
     "base_uri": "https://localhost:8080/",
     "height": 676
    },
    "id": "Ck16bADxIMip",
    "outputId": "66e06b28-6a52-4151-8a60-b49278795dd8",
    "scrolled": true
   },
   "outputs": [
    {
     "data": {
      "text/html": [
       "<div>\n",
       "<style scoped>\n",
       "    .dataframe tbody tr th:only-of-type {\n",
       "        vertical-align: middle;\n",
       "    }\n",
       "\n",
       "    .dataframe tbody tr th {\n",
       "        vertical-align: top;\n",
       "    }\n",
       "\n",
       "    .dataframe thead th {\n",
       "        text-align: right;\n",
       "    }\n",
       "</style>\n",
       "<table border=\"1\" class=\"dataframe\">\n",
       "  <thead>\n",
       "    <tr style=\"text-align: right;\">\n",
       "      <th></th>\n",
       "      <th>drugName</th>\n",
       "      <th>condition</th>\n",
       "    </tr>\n",
       "  </thead>\n",
       "  <tbody>\n",
       "    <tr>\n",
       "      <th>3647</th>\n",
       "      <td>Hydrocodone / ibuprofen</td>\n",
       "      <td>1</td>\n",
       "    </tr>\n",
       "    <tr>\n",
       "      <th>3648</th>\n",
       "      <td>Hydrochlorothiazide / moexipril</td>\n",
       "      <td>1</td>\n",
       "    </tr>\n",
       "    <tr>\n",
       "      <th>3649</th>\n",
       "      <td>Hepatitis b adult vaccine</td>\n",
       "      <td>1</td>\n",
       "    </tr>\n",
       "    <tr>\n",
       "      <th>3650</th>\n",
       "      <td>Hydrochlorothiazide / lisinopril</td>\n",
       "      <td>1</td>\n",
       "    </tr>\n",
       "    <tr>\n",
       "      <th>3651</th>\n",
       "      <td>Hetlioz</td>\n",
       "      <td>1</td>\n",
       "    </tr>\n",
       "    <tr>\n",
       "      <th>3652</th>\n",
       "      <td>Hexalen</td>\n",
       "      <td>1</td>\n",
       "    </tr>\n",
       "    <tr>\n",
       "      <th>3653</th>\n",
       "      <td>Hi-Vegi-Lip</td>\n",
       "      <td>1</td>\n",
       "    </tr>\n",
       "    <tr>\n",
       "      <th>3654</th>\n",
       "      <td>Hizentra</td>\n",
       "      <td>1</td>\n",
       "    </tr>\n",
       "    <tr>\n",
       "      <th>3655</th>\n",
       "      <td>Homatropine / hydrocodone</td>\n",
       "      <td>1</td>\n",
       "    </tr>\n",
       "    <tr>\n",
       "      <th>3656</th>\n",
       "      <td>Human papillomavirus vaccine</td>\n",
       "      <td>1</td>\n",
       "    </tr>\n",
       "    <tr>\n",
       "      <th>3657</th>\n",
       "      <td>Humate-P</td>\n",
       "      <td>1</td>\n",
       "    </tr>\n",
       "    <tr>\n",
       "      <th>3658</th>\n",
       "      <td>Humatin</td>\n",
       "      <td>1</td>\n",
       "    </tr>\n",
       "    <tr>\n",
       "      <th>3659</th>\n",
       "      <td>Hyalgan</td>\n",
       "      <td>1</td>\n",
       "    </tr>\n",
       "    <tr>\n",
       "      <th>3660</th>\n",
       "      <td>Hyaluronan</td>\n",
       "      <td>1</td>\n",
       "    </tr>\n",
       "    <tr>\n",
       "      <th>3661</th>\n",
       "      <td>Hyaluronidase</td>\n",
       "      <td>1</td>\n",
       "    </tr>\n",
       "    <tr>\n",
       "      <th>3662</th>\n",
       "      <td>Hycodan</td>\n",
       "      <td>1</td>\n",
       "    </tr>\n",
       "    <tr>\n",
       "      <th>3663</th>\n",
       "      <td>Hydralazine / hydrochlorothiazide / reserpine</td>\n",
       "      <td>1</td>\n",
       "    </tr>\n",
       "    <tr>\n",
       "      <th>3664</th>\n",
       "      <td>Hydralazine / isosorbide dinitrate</td>\n",
       "      <td>1</td>\n",
       "    </tr>\n",
       "    <tr>\n",
       "      <th>3665</th>\n",
       "      <td>Hydrochlorothiazide / irbesartan</td>\n",
       "      <td>1</td>\n",
       "    </tr>\n",
       "    <tr>\n",
       "      <th>3666</th>\n",
       "      <td>pHisoHex</td>\n",
       "      <td>1</td>\n",
       "    </tr>\n",
       "  </tbody>\n",
       "</table>\n",
       "</div>"
      ],
      "text/plain": [
       "                                           drugName  condition\n",
       "3647                        Hydrocodone / ibuprofen          1\n",
       "3648                Hydrochlorothiazide / moexipril          1\n",
       "3649                      Hepatitis b adult vaccine          1\n",
       "3650               Hydrochlorothiazide / lisinopril          1\n",
       "3651                                        Hetlioz          1\n",
       "3652                                        Hexalen          1\n",
       "3653                                    Hi-Vegi-Lip          1\n",
       "3654                                       Hizentra          1\n",
       "3655                      Homatropine / hydrocodone          1\n",
       "3656                   Human papillomavirus vaccine          1\n",
       "3657                                       Humate-P          1\n",
       "3658                                        Humatin          1\n",
       "3659                                        Hyalgan          1\n",
       "3660                                     Hyaluronan          1\n",
       "3661                                  Hyaluronidase          1\n",
       "3662                                        Hycodan          1\n",
       "3663  Hydralazine / hydrochlorothiazide / reserpine          1\n",
       "3664             Hydralazine / isosorbide dinitrate          1\n",
       "3665               Hydrochlorothiazide / irbesartan          1\n",
       "3666                                       pHisoHex          1"
      ]
     },
     "execution_count": 13,
     "metadata": {},
     "output_type": "execute_result"
    }
   ],
   "source": [
    "df_condition = data.groupby(['drugName'])['condition'].nunique().sort_values(ascending=False)\n",
    "df_condition = pd.DataFrame(df_condition).reset_index()\n",
    "df_condition.tail(20)"
   ]
  },
  {
   "cell_type": "code",
   "execution_count": 14,
   "metadata": {
    "id": "jbVnD-PPIQlJ"
   },
   "outputs": [],
   "source": [
    "df_condition_1 = df_condition[df_condition['condition'] == 1].reset_index()\n",
    "\n",
    "all_list = set(data.index)\n",
    "\n",
    "# deleting them\n",
    "condition_list = []\n",
    "for i,j in enumerate(data['drugName']):\n",
    "    for c in list(df_condition_1['drugName']):\n",
    "        if j == c:\n",
    "            condition_list.append(i)\n",
    "            \n",
    "new_idx = all_list.difference(set(condition_list))\n",
    "data = data.iloc[list(new_idx)].reset_index()\n",
    "del data['index']"
   ]
  },
  {
   "cell_type": "code",
   "execution_count": 15,
   "metadata": {
    "id": "-HMu-DPaT8fM"
   },
   "outputs": [],
   "source": [
    "# removing the conditions with <span> in it.\n",
    "all_list = set(data.index)\n",
    "span_list = []\n",
    "for i,j in enumerate(data['condition']):\n",
    "  if '</span>' in j:\n",
    "    span_list.append(i)\n",
    "new_idx = all_list.difference(set(span_list))\n",
    "data = data.iloc[list(new_idx)].reset_index()\n",
    "del data['index']"
   ]
  },
  {
   "cell_type": "code",
   "execution_count": 16,
   "metadata": {
    "id": "kW-oT5NVr1mR"
   },
   "outputs": [],
   "source": [
    "# NLP\n",
    "stemmer = SnowballStemmer('english')\n",
    "\n",
    "def review_to_words(raw_review):\n",
    "    # 1. Delete HTML\n",
    "    review_text = BeautifulSoup(raw_review, 'html.parser').get_text()\n",
    "    # 2. Make a space\n",
    "    letters_only = re.sub('[^a-zA-Z]', ' ', review_text)\n",
    "    # 3. lower letters\n",
    "    words = letters_only.lower().split()\n",
    "    # 5. Stopwords\n",
    "    meaningful_words = [w for w in words if not w in stops]\n",
    "    # 6. Stemming\n",
    "    stemming_words = [stemmer.stem(w) for w in meaningful_words]\n",
    "    # 7. space join words\n",
    "    return( ' '.join(stemming_words))"
   ]
  },
  {
   "cell_type": "code",
   "execution_count": 17,
   "metadata": {
    "colab": {
     "base_uri": "https://localhost:8080/"
    },
    "id": "sn77zQhDueUH",
    "outputId": "a577e9b0-c061-4a16-efcf-240c346cd276"
   },
   "outputs": [
    {
     "name": "stderr",
     "output_type": "stream",
     "text": [
      "C:\\Users\\LENOVA\\AppData\\Local\\Temp\\ipykernel_30452\\1027079973.py:6: MarkupResemblesLocatorWarning: The input looks more like a filename than markup. You may want to open this file and pass the filehandle into Beautiful Soup.\n",
      "  review_text = BeautifulSoup(raw_review, 'html.parser').get_text()\n"
     ]
    },
    {
     "name": "stdout",
     "output_type": "stream",
     "text": [
      "CPU times: total: 31.5 s\n",
      "Wall time: 1min 21s\n"
     ]
    }
   ],
   "source": [
    "%time data['review_clean'] = data['review'].apply(review_to_words)"
   ]
  },
  {
   "cell_type": "code",
   "execution_count": 18,
   "metadata": {
    "colab": {
     "base_uri": "https://localhost:8080/"
    },
    "id": "s4DgcPN7Y6gi",
    "outputId": "ece8ca6f-a353-4d87-bff9-61e54606c244"
   },
   "outputs": [
    {
     "name": "stdout",
     "output_type": "stream",
     "text": [
      "Shape of train: (106721, 12)\n",
      "Shape of test:  (35574, 12)\n"
     ]
    }
   ],
   "source": [
    "# splitting the data into train and test\n",
    "\n",
    "from sklearn.model_selection import train_test_split\n",
    "\n",
    "df_train, df_test = train_test_split(data, test_size = 0.25, random_state = 0)\n",
    "\n",
    "# checking the shape\n",
    "print(\"Shape of train:\", df_train.shape)\n",
    "print(\"Shape of test: \", df_test.shape)"
   ]
  },
  {
   "cell_type": "code",
   "execution_count": 19,
   "metadata": {
    "colab": {
     "base_uri": "https://localhost:8080/"
    },
    "id": "Of7zHkOcXgH9",
    "outputId": "d9ebc9a1-b89c-46dc-db20-de8713547281"
   },
   "outputs": [
    {
     "name": "stdout",
     "output_type": "stream",
     "text": [
      "df_train_features : (106721, 20000)\n",
      "df_test_features : (35574, 20000)\n"
     ]
    }
   ],
   "source": [
    "# creating bag of words\n",
    "\n",
    "from sklearn.feature_extraction.text import CountVectorizer\n",
    "from sklearn.pipeline import Pipeline\n",
    "\n",
    "cv = CountVectorizer(max_features = 20000, ngram_range = (4, 4))\n",
    "pipeline = Pipeline([('vect',cv)])\n",
    "\n",
    "df_train_features = pipeline.fit_transform(df_train['review_clean'])\n",
    "df_test_features = pipeline.fit_transform(df_test['review_clean'])\n",
    "\n",
    "print(\"df_train_features :\", df_train_features.shape)\n",
    "print(\"df_test_features :\", df_test_features.shape)"
   ]
  },
  {
   "cell_type": "code",
   "execution_count": 20,
   "metadata": {
    "id": "WGy1xm4eboAK"
   },
   "outputs": [],
   "source": [
    "# importing the libraries for deep learning model\n",
    "\n",
    "import tensorflow as tf\n",
    "import tensorflow_io as tfio"
   ]
  },
  {
   "cell_type": "code",
   "execution_count": 21,
   "metadata": {
    "id": "Iys0sO7Wgogw"
   },
   "outputs": [],
   "source": [
    "# making our dependent variable\n",
    "\n",
    "y_train = df_train['Review_Sentiment']\n",
    "y_test = df_test['Review_Sentiment']\n",
    "solution = y_test.copy()\n",
    "\n",
    "# Model Structure\n",
    "model = tf.keras.models.Sequential([\n",
    "    tf.keras.layers.Dense(200, input_shape=(20000,)),\n",
    "    tf.keras.layers.BatchNormalization(),\n",
    "    tf.keras.layers.Activation('relu'),\n",
    "    tf.keras.layers.Dropout(0.5),\n",
    "\n",
    "    tf.keras.layers.Dense(300),\n",
    "    tf.keras.layers.BatchNormalization(),\n",
    "    tf.keras.layers.Activation('relu'),\n",
    "    tf.keras.layers.Dropout(0.5),\n",
    "\n",
    "    tf.keras.layers.Dense(100, activation='relu'),\n",
    "    tf.keras.layers.Dense(1, activation='sigmoid')\n",
    "])\n",
    "\n",
    "# Model compile\n",
    "model.compile(optimizer='adam', loss='binary_crossentropy', metrics=['accuracy'])\n"
   ]
  },
  {
   "cell_type": "code",
   "execution_count": 22,
   "metadata": {
    "colab": {
     "base_uri": "https://localhost:8080/"
    },
    "id": "38nEyMgohMjH",
    "outputId": "4dda15df-e414-4bc4-cf85-1dcc78b8f0ab"
   },
   "outputs": [
    {
     "name": "stdout",
     "output_type": "stream",
     "text": [
      "Model: \"sequential\"\n",
      "_________________________________________________________________\n",
      " Layer (type)                Output Shape              Param #   \n",
      "=================================================================\n",
      " dense (Dense)               (None, 200)               4000200   \n",
      "                                                                 \n",
      " batch_normalization (Batch  (None, 200)               800       \n",
      " Normalization)                                                  \n",
      "                                                                 \n",
      " activation (Activation)     (None, 200)               0         \n",
      "                                                                 \n",
      " dropout (Dropout)           (None, 200)               0         \n",
      "                                                                 \n",
      " dense_1 (Dense)             (None, 300)               60300     \n",
      "                                                                 \n",
      " batch_normalization_1 (Bat  (None, 300)               1200      \n",
      " chNormalization)                                                \n",
      "                                                                 \n",
      " activation_1 (Activation)   (None, 300)               0         \n",
      "                                                                 \n",
      " dropout_1 (Dropout)         (None, 300)               0         \n",
      "                                                                 \n",
      " dense_2 (Dense)             (None, 100)               30100     \n",
      "                                                                 \n",
      " dense_3 (Dense)             (None, 1)                 101       \n",
      "                                                                 \n",
      "=================================================================\n",
      "Total params: 4092701 (15.61 MB)\n",
      "Trainable params: 4091701 (15.61 MB)\n",
      "Non-trainable params: 1000 (3.91 KB)\n",
      "_________________________________________________________________\n"
     ]
    }
   ],
   "source": [
    "model.summary()"
   ]
  },
  {
   "cell_type": "code",
   "execution_count": 23,
   "metadata": {
    "id": "o5tVnpyEi1R4"
   },
   "outputs": [
    {
     "name": "stdout",
     "output_type": "stream",
     "text": [
      "Epoch 1/10\n",
      "3336/3336 [==============================] - 432s 127ms/step - loss: 0.5390 - accuracy: 0.7593\n",
      "Epoch 2/10\n",
      "3336/3336 [==============================] - 353s 106ms/step - loss: 0.4584 - accuracy: 0.7965\n",
      "Epoch 3/10\n",
      "3336/3336 [==============================] - 319s 96ms/step - loss: 0.4227 - accuracy: 0.8119\n",
      "Epoch 4/10\n",
      "3336/3336 [==============================] - 310s 93ms/step - loss: 0.4054 - accuracy: 0.8201\n",
      "Epoch 5/10\n",
      "3336/3336 [==============================] - 296s 89ms/step - loss: 0.3914 - accuracy: 0.8264\n",
      "Epoch 6/10\n",
      "3336/3336 [==============================] - 348s 104ms/step - loss: 0.3822 - accuracy: 0.8294\n",
      "Epoch 7/10\n",
      "3336/3336 [==============================] - 359s 108ms/step - loss: 0.3752 - accuracy: 0.8330\n",
      "Epoch 8/10\n",
      "3336/3336 [==============================] - 291s 87ms/step - loss: 0.3692 - accuracy: 0.8356\n",
      "Epoch 9/10\n",
      "3336/3336 [==============================] - 303s 91ms/step - loss: 0.3654 - accuracy: 0.8370\n",
      "Epoch 10/10\n",
      "3336/3336 [==============================] - 347s 104ms/step - loss: 0.3611 - accuracy: 0.8391\n"
     ]
    },
    {
     "data": {
      "image/png": "[encoded data removed]",
      "text/plain": [
       "<Figure size 640x480 with 2 Axes>"
      ]
     },
     "metadata": {},
     "output_type": "display_data"
    }
   ],
   "source": [
    "# 4. Train model\n",
    "hist = model.fit(df_train_features.toarray(), y_train, epochs=10, batch_size=32)\n",
    "\n",
    "\n",
    "# 5. Training process\n",
    "import matplotlib.pyplot as plt\n",
    "\n",
    "fig, loss_ax = plt.subplots()\n",
    "\n",
    "acc_ax = loss_ax.twinx()\n",
    "\n",
    "loss_ax.set_ylim([0.0, 1.0])\n",
    "acc_ax.set_ylim([0.0, 1.0])\n",
    "\n",
    "loss_ax.plot(hist.history['loss'], 'y', label='train loss')\n",
    "acc_ax.plot(hist.history['accuracy'], 'b', label='train acc')\n",
    "\n",
    "loss_ax.set_xlabel('epoch')\n",
    "loss_ax.set_ylabel('loss')\n",
    "acc_ax.set_ylabel('accuray')\n",
    "\n",
    "loss_ax.legend(loc='upper left')\n",
    "acc_ax.legend(loc='lower left')\n",
    "\n",
    "plt.show()"
   ]
  },
  {
   "cell_type": "code",
   "execution_count": 24,
   "metadata": {},
   "outputs": [],
   "source": [
    "test_sparse = tf.sparse.SparseTensor(\n",
    "    indices=np.stack((df_test_features.tocoo().row, df_test_features.tocoo().col), axis=1),\n",
    "    values=df_test_features.data,\n",
    "    dense_shape=df_test_features.shape\n",
    ")\n",
    "\n"
   ]
  },
  {
   "cell_type": "code",
   "execution_count": 25,
   "metadata": {},
   "outputs": [
    {
     "name": "stdout",
     "output_type": "stream",
     "text": [
      "1112/1112 [==============================] - 2s 1ms/step\n"
     ]
    }
   ],
   "source": [
    "\n",
    "# Reorder indices\n",
    "test_sparse = tf.sparse.reorder(test_sparse)\n",
    "\n",
    "# Make predictions\n",
    "sub_preds_deep = model.predict(test_sparse, batch_size=32)\n"
   ]
  },
  {
   "cell_type": "code",
   "execution_count": 26,
   "metadata": {},
   "outputs": [
    {
     "name": "stdout",
     "output_type": "stream",
     "text": [
      "Collecting lightgbm\n",
      "  Downloading lightgbm-4.3.0-py3-none-win_amd64.whl.metadata (19 kB)\n",
      "Requirement already satisfied: numpy in c:\\python311\\lib\\site-packages (from lightgbm) (1.24.3)\n",
      "Requirement already satisfied: scipy in c:\\python311\\lib\\site-packages (from lightgbm) (1.11.1)\n",
      "Downloading lightgbm-4.3.0-py3-none-win_amd64.whl (1.3 MB)\n",
      "   ---------------------------------------- 0.0/1.3 MB ? eta -:--:--\n",
      "    --------------------------------------- 0.0/1.3 MB 1.3 MB/s eta 0:00:02\n",
      "   --- ------------------------------------ 0.1/1.3 MB 1.3 MB/s eta 0:00:01\n",
      "   ------ --------------------------------- 0.2/1.3 MB 1.7 MB/s eta 0:00:01\n",
      "   ------------ --------------------------- 0.4/1.3 MB 2.4 MB/s eta 0:00:01\n",
      "   ------------------ --------------------- 0.6/1.3 MB 2.9 MB/s eta 0:00:01\n",
      "   -------------------------------- ------- 1.1/1.3 MB 4.0 MB/s eta 0:00:01\n",
      "   ---------------------------------------- 1.3/1.3 MB 4.2 MB/s eta 0:00:00\n",
      "Installing collected packages: lightgbm\n",
      "Successfully installed lightgbm-4.3.0\n"
     ]
    }
   ],
   "source": [
    "# !pip install lightgbm"
   ]
  },
  {
   "cell_type": "code",
   "execution_count": 66,
   "metadata": {},
   "outputs": [
    {
     "name": "stdout",
     "output_type": "stream",
     "text": [
      "Name: lightgbm\n",
      "Version: 3.3.0\n",
      "Summary: LightGBM Python Package\n",
      "Home-page: https://github.com/microsoft/LightGBM\n",
      "Author: \n",
      "Author-email: \n",
      "License: The MIT License (Microsoft)\n",
      "Location: C:\\Users\\LENOVA\\AppData\\Roaming\\Python\\Python311\\site-packages\n",
      "Requires: numpy, scikit-learn, scipy, wheel\n",
      "Required-by: \n"
     ]
    }
   ],
   "source": [
    "!pip show lightgbm"
   ]
  },
  {
   "cell_type": "code",
   "execution_count": 69,
   "metadata": {
    "id": "K4kH_IjhWfK8"
   },
   "outputs": [],
   "source": [
    "from sklearn.metrics import roc_auc_score, precision_recall_curve, roc_curve, average_precision_score\n",
    "from sklearn.model_selection import KFold\n",
    "from lightgbm import LGBMClassifier\n",
    "from sklearn.metrics import confusion_matrix\n",
    "\n",
    "#folds = KFold(n_splits=5, shuffle=True, random_state=546789)\n",
    "target = df_train['Review_Sentiment']\n",
    "feats = ['usefulCount']\n",
    "\n",
    "sub_preds = np.zeros(df_test.shape[0])\n",
    "\n",
    "trn_x, val_x, trn_y, val_y = train_test_split(df_train[feats], target, test_size=0.2, random_state=42) \n",
    "feature_importance_df = pd.DataFrame() \n",
    "    \n",
    "clf = LGBMClassifier(\n",
    "        n_estimators=2000,\n",
    "        learning_rate=0.05,\n",
    "        num_leaves=30,\n",
    "        #colsample_bytree=.9,\n",
    "        subsample=.9,\n",
    "        max_depth=7,\n",
    "        reg_alpha=.1,\n",
    "        reg_lambda=.1,\n",
    "        min_split_gain=.01,\n",
    "        min_child_weight=2,\n",
    "        silent=-1,\n",
    "        verbose=-1,\n",
    "        )\n",
    "        \n",
    "# clf.fit(trn_x, trn_y, \n",
    "#         eval_set= [(trn_x, trn_y), (val_x, val_y)], \n",
    "#         verbose=100, early_stopping_rounds=100  #30\n",
    "#     )\n",
    "clf.fit(trn_x, trn_y, eval_set=[(trn_x, trn_y), (val_x, val_y)])\n",
    "\n",
    "\n",
    "sub_preds = clf.predict(df_test[feats])\n",
    "        \n",
    "fold_importance_df = pd.DataFrame()\n",
    "fold_importance_df[\"feature\"] = feats\n",
    "fold_importance_df[\"importance\"] = clf.feature_importances_\n",
    "feature_importance_df = pd.concat([feature_importance_df, fold_importance_df], axis=0)"
   ]
  },
  {
   "cell_type": "code",
   "execution_count": 70,
   "metadata": {
    "id": "uxCc-gUrdoPS"
   },
   "outputs": [
    {
     "data": {
      "text/plain": [
       "array([[    0,  8780],\n",
       "       [    0, 26794]], dtype=int64)"
      ]
     },
     "execution_count": 70,
     "metadata": {},
     "output_type": "execute_result"
    }
   ],
   "source": [
    "solution = df_test['Review_Sentiment']\n",
    "confusion_matrix(y_pred = sub_preds, y_true = solution)"
   ]
  },
  {
   "cell_type": "code",
   "execution_count": 71,
   "metadata": {},
   "outputs": [
    {
     "name": "stdout",
     "output_type": "stream",
     "text": [
      "Collecting textblob\n",
      "  Downloading textblob-0.18.0.post0-py3-none-any.whl.metadata (4.5 kB)\n",
      "Requirement already satisfied: nltk>=3.8 in c:\\users\\lenova\\appdata\\roaming\\python\\python311\\site-packages (from textblob) (3.8.1)\n",
      "Requirement already satisfied: click in c:\\python311\\lib\\site-packages (from nltk>=3.8->textblob) (8.1.6)\n",
      "Requirement already satisfied: joblib in c:\\python311\\lib\\site-packages (from nltk>=3.8->textblob) (1.3.1)\n",
      "Requirement already satisfied: regex>=2021.8.3 in c:\\users\\lenova\\appdata\\roaming\\python\\python311\\site-packages (from nltk>=3.8->textblob) (2024.4.16)\n",
      "Requirement already satisfied: tqdm in c:\\python311\\lib\\site-packages (from nltk>=3.8->textblob) (4.66.2)\n",
      "Requirement already satisfied: colorama in c:\\python311\\lib\\site-packages (from click->nltk>=3.8->textblob) (0.4.6)\n",
      "Downloading textblob-0.18.0.post0-py3-none-any.whl (626 kB)\n",
      "   ---------------------------------------- 0.0/626.3 kB ? eta -:--:--\n",
      "   - -------------------------------------- 30.7/626.3 kB ? eta -:--:--\n",
      "   ------ --------------------------------- 102.4/626.3 kB 1.2 MB/s eta 0:00:01\n",
      "   ------------- -------------------------- 204.8/626.3 kB 1.6 MB/s eta 0:00:01\n",
      "   -------------------- ------------------- 327.7/626.3 kB 2.0 MB/s eta 0:00:01\n",
      "   ---------------------------------------- 626.3/626.3 kB 2.8 MB/s eta 0:00:00\n",
      "Installing collected packages: textblob\n",
      "Successfully installed textblob-0.18.0.post0\n"
     ]
    }
   ],
   "source": [
    "!pip install textblob"
   ]
  },
  {
   "cell_type": "code",
   "execution_count": 72,
   "metadata": {
    "id": "8fLtwUHqX5sg"
   },
   "outputs": [
    {
     "name": "stderr",
     "output_type": "stream",
     "text": [
      "100%|██████████| 142295/142295 [00:46<00:00, 3045.86it/s]\n"
     ]
    },
    {
     "data": {
      "text/html": [
       "<div>\n",
       "<style scoped>\n",
       "    .dataframe tbody tr th:only-of-type {\n",
       "        vertical-align: middle;\n",
       "    }\n",
       "\n",
       "    .dataframe tbody tr th {\n",
       "        vertical-align: top;\n",
       "    }\n",
       "\n",
       "    .dataframe thead th {\n",
       "        text-align: right;\n",
       "    }\n",
       "</style>\n",
       "<table border=\"1\" class=\"dataframe\">\n",
       "  <thead>\n",
       "    <tr style=\"text-align: right;\">\n",
       "      <th></th>\n",
       "      <th></th>\n",
       "      <th>drugName</th>\n",
       "      <th>condition</th>\n",
       "      <th>review</th>\n",
       "      <th>rating</th>\n",
       "      <th>date</th>\n",
       "      <th>usefulCount</th>\n",
       "      <th>Review_Sentiment</th>\n",
       "      <th>Year</th>\n",
       "      <th>month</th>\n",
       "      <th>day</th>\n",
       "      <th>review_clean</th>\n",
       "      <th>Predict_Sentiment</th>\n",
       "    </tr>\n",
       "  </thead>\n",
       "  <tbody>\n",
       "    <tr>\n",
       "      <th>0</th>\n",
       "      <td>206461</td>\n",
       "      <td>Valsartan</td>\n",
       "      <td>Left Ventricular Dysfunction</td>\n",
       "      <td>\"It has no side effect, I take it in combinati...</td>\n",
       "      <td>9</td>\n",
       "      <td>2012-05-20</td>\n",
       "      <td>27</td>\n",
       "      <td>1.0</td>\n",
       "      <td>2012</td>\n",
       "      <td>5</td>\n",
       "      <td>20</td>\n",
       "      <td>no side effect take combin bystol mg fish oil</td>\n",
       "      <td>0.000000</td>\n",
       "    </tr>\n",
       "    <tr>\n",
       "      <th>1</th>\n",
       "      <td>95260</td>\n",
       "      <td>Guanfacine</td>\n",
       "      <td>ADHD</td>\n",
       "      <td>\"My son is halfway through his fourth week of ...</td>\n",
       "      <td>8</td>\n",
       "      <td>2010-04-27</td>\n",
       "      <td>192</td>\n",
       "      <td>1.0</td>\n",
       "      <td>2010</td>\n",
       "      <td>4</td>\n",
       "      <td>27</td>\n",
       "      <td>son halfway fourth week intuniv becam concern ...</td>\n",
       "      <td>0.114583</td>\n",
       "    </tr>\n",
       "    <tr>\n",
       "      <th>2</th>\n",
       "      <td>92703</td>\n",
       "      <td>Lybrel</td>\n",
       "      <td>Birth Control</td>\n",
       "      <td>\"I used to take another oral contraceptive, wh...</td>\n",
       "      <td>5</td>\n",
       "      <td>2009-12-14</td>\n",
       "      <td>17</td>\n",
       "      <td>1.0</td>\n",
       "      <td>2009</td>\n",
       "      <td>12</td>\n",
       "      <td>14</td>\n",
       "      <td>use take anoth oral contracept pill cycl happi...</td>\n",
       "      <td>0.105000</td>\n",
       "    </tr>\n",
       "    <tr>\n",
       "      <th>3</th>\n",
       "      <td>35696</td>\n",
       "      <td>Buprenorphine / naloxone</td>\n",
       "      <td>Opiate Dependence</td>\n",
       "      <td>\"Suboxone has completely turned my life around...</td>\n",
       "      <td>9</td>\n",
       "      <td>2016-11-27</td>\n",
       "      <td>37</td>\n",
       "      <td>1.0</td>\n",
       "      <td>2016</td>\n",
       "      <td>11</td>\n",
       "      <td>27</td>\n",
       "      <td>suboxon complet turn life around feel healthie...</td>\n",
       "      <td>0.147037</td>\n",
       "    </tr>\n",
       "    <tr>\n",
       "      <th>4</th>\n",
       "      <td>155963</td>\n",
       "      <td>Cialis</td>\n",
       "      <td>Benign Prostatic Hyperplasia</td>\n",
       "      <td>\"2nd day on 5mg started to work with rock hard...</td>\n",
       "      <td>2</td>\n",
       "      <td>2015-11-28</td>\n",
       "      <td>43</td>\n",
       "      <td>0.0</td>\n",
       "      <td>2015</td>\n",
       "      <td>11</td>\n",
       "      <td>28</td>\n",
       "      <td>nd day mg start work rock hard erect howev exp...</td>\n",
       "      <td>-0.013889</td>\n",
       "    </tr>\n",
       "  </tbody>\n",
       "</table>\n",
       "</div>"
      ],
      "text/plain": [
       "                           drugName                     condition  \\\n",
       "0  206461                 Valsartan  Left Ventricular Dysfunction   \n",
       "1   95260                Guanfacine                          ADHD   \n",
       "2   92703                    Lybrel                 Birth Control   \n",
       "3   35696  Buprenorphine / naloxone             Opiate Dependence   \n",
       "4  155963                    Cialis  Benign Prostatic Hyperplasia   \n",
       "\n",
       "                                              review  rating       date  \\\n",
       "0  \"It has no side effect, I take it in combinati...       9 2012-05-20   \n",
       "1  \"My son is halfway through his fourth week of ...       8 2010-04-27   \n",
       "2  \"I used to take another oral contraceptive, wh...       5 2009-12-14   \n",
       "3  \"Suboxone has completely turned my life around...       9 2016-11-27   \n",
       "4  \"2nd day on 5mg started to work with rock hard...       2 2015-11-28   \n",
       "\n",
       "   usefulCount  Review_Sentiment  Year  month  day  \\\n",
       "0           27               1.0  2012      5   20   \n",
       "1          192               1.0  2010      4   27   \n",
       "2           17               1.0  2009     12   14   \n",
       "3           37               1.0  2016     11   27   \n",
       "4           43               0.0  2015     11   28   \n",
       "\n",
       "                                        review_clean  Predict_Sentiment  \n",
       "0      no side effect take combin bystol mg fish oil           0.000000  \n",
       "1  son halfway fourth week intuniv becam concern ...           0.114583  \n",
       "2  use take anoth oral contracept pill cycl happi...           0.105000  \n",
       "3  suboxon complet turn life around feel healthie...           0.147037  \n",
       "4  nd day mg start work rock hard erect howev exp...          -0.013889  "
      ]
     },
     "execution_count": 72,
     "metadata": {},
     "output_type": "execute_result"
    }
   ],
   "source": [
    "from textblob import TextBlob\n",
    "from tqdm import tqdm\n",
    "reviews = data['review_clean']\n",
    "\n",
    "Predict_Sentiment = []\n",
    "for review in tqdm(reviews):\n",
    "    blob = TextBlob(review)\n",
    "    Predict_Sentiment += [blob.sentiment.polarity]\n",
    "data[\"Predict_Sentiment\"] = Predict_Sentiment\n",
    "data.head()"
   ]
  },
  {
   "cell_type": "code",
   "execution_count": 73,
   "metadata": {
    "id": "9sGpben4Ziwh"
   },
   "outputs": [
    {
     "data": {
      "text/plain": [
       "array([[1.        , 0.25507843],\n",
       "       [0.25507843, 1.        ]])"
      ]
     },
     "execution_count": 73,
     "metadata": {},
     "output_type": "execute_result"
    }
   ],
   "source": [
    "# checking the corrcoef between predict sentiment and rating\n",
    "\n",
    "np.corrcoef(data[\"Predict_Sentiment\"], data[\"rating\"])"
   ]
  },
  {
   "cell_type": "code",
   "execution_count": 74,
   "metadata": {
    "id": "Rnno4KmxZuNf"
   },
   "outputs": [
    {
     "data": {
      "text/plain": [
       "array([[1.        , 0.22643043],\n",
       "       [0.22643043, 1.        ]])"
      ]
     },
     "execution_count": 74,
     "metadata": {},
     "output_type": "execute_result"
    }
   ],
   "source": [
    "# checking the corrcoef between predict sentiment and sentiment\n",
    "\n",
    "np.corrcoef(data[\"Predict_Sentiment\"], data[\"Review_Sentiment\"])"
   ]
  },
  {
   "cell_type": "code",
   "execution_count": 75,
   "metadata": {
    "id": "LjR4U_Dzftsq"
   },
   "outputs": [
    {
     "name": "stderr",
     "output_type": "stream",
     "text": [
      "100%|██████████| 142295/142295 [02:05<00:00, 1133.40it/s]\n"
     ]
    }
   ],
   "source": [
    "# predict sentiment 2\n",
    "\n",
    "reviews = data['review']\n",
    "\n",
    "Predict_Sentiment = []\n",
    "for review in tqdm(reviews):\n",
    "    blob = TextBlob(review)\n",
    "    Predict_Sentiment += [blob.sentiment.polarity]\n",
    "data[\"Predict_Sentiment2\"] = Predict_Sentiment"
   ]
  },
  {
   "cell_type": "code",
   "execution_count": 76,
   "metadata": {},
   "outputs": [
    {
     "data": {
      "text/html": [
       "<div>\n",
       "<style scoped>\n",
       "    .dataframe tbody tr th:only-of-type {\n",
       "        vertical-align: middle;\n",
       "    }\n",
       "\n",
       "    .dataframe tbody tr th {\n",
       "        vertical-align: top;\n",
       "    }\n",
       "\n",
       "    .dataframe thead th {\n",
       "        text-align: right;\n",
       "    }\n",
       "</style>\n",
       "<table border=\"1\" class=\"dataframe\">\n",
       "  <thead>\n",
       "    <tr style=\"text-align: right;\">\n",
       "      <th></th>\n",
       "      <th></th>\n",
       "      <th>drugName</th>\n",
       "      <th>condition</th>\n",
       "      <th>review</th>\n",
       "      <th>rating</th>\n",
       "      <th>date</th>\n",
       "      <th>usefulCount</th>\n",
       "      <th>Review_Sentiment</th>\n",
       "      <th>Year</th>\n",
       "      <th>month</th>\n",
       "      <th>day</th>\n",
       "      <th>review_clean</th>\n",
       "      <th>Predict_Sentiment</th>\n",
       "      <th>Predict_Sentiment2</th>\n",
       "    </tr>\n",
       "  </thead>\n",
       "  <tbody>\n",
       "    <tr>\n",
       "      <th>0</th>\n",
       "      <td>206461</td>\n",
       "      <td>Valsartan</td>\n",
       "      <td>Left Ventricular Dysfunction</td>\n",
       "      <td>\"It has no side effect, I take it in combinati...</td>\n",
       "      <td>9</td>\n",
       "      <td>2012-05-20</td>\n",
       "      <td>27</td>\n",
       "      <td>1.0</td>\n",
       "      <td>2012</td>\n",
       "      <td>5</td>\n",
       "      <td>20</td>\n",
       "      <td>no side effect take combin bystol mg fish oil</td>\n",
       "      <td>0.000000</td>\n",
       "      <td>0.000000</td>\n",
       "    </tr>\n",
       "    <tr>\n",
       "      <th>1</th>\n",
       "      <td>95260</td>\n",
       "      <td>Guanfacine</td>\n",
       "      <td>ADHD</td>\n",
       "      <td>\"My son is halfway through his fourth week of ...</td>\n",
       "      <td>8</td>\n",
       "      <td>2010-04-27</td>\n",
       "      <td>192</td>\n",
       "      <td>1.0</td>\n",
       "      <td>2010</td>\n",
       "      <td>4</td>\n",
       "      <td>27</td>\n",
       "      <td>son halfway fourth week intuniv becam concern ...</td>\n",
       "      <td>0.114583</td>\n",
       "      <td>0.168333</td>\n",
       "    </tr>\n",
       "    <tr>\n",
       "      <th>2</th>\n",
       "      <td>92703</td>\n",
       "      <td>Lybrel</td>\n",
       "      <td>Birth Control</td>\n",
       "      <td>\"I used to take another oral contraceptive, wh...</td>\n",
       "      <td>5</td>\n",
       "      <td>2009-12-14</td>\n",
       "      <td>17</td>\n",
       "      <td>1.0</td>\n",
       "      <td>2009</td>\n",
       "      <td>12</td>\n",
       "      <td>14</td>\n",
       "      <td>use take anoth oral contracept pill cycl happi...</td>\n",
       "      <td>0.105000</td>\n",
       "      <td>0.067210</td>\n",
       "    </tr>\n",
       "    <tr>\n",
       "      <th>3</th>\n",
       "      <td>35696</td>\n",
       "      <td>Buprenorphine / naloxone</td>\n",
       "      <td>Opiate Dependence</td>\n",
       "      <td>\"Suboxone has completely turned my life around...</td>\n",
       "      <td>9</td>\n",
       "      <td>2016-11-27</td>\n",
       "      <td>37</td>\n",
       "      <td>1.0</td>\n",
       "      <td>2016</td>\n",
       "      <td>11</td>\n",
       "      <td>27</td>\n",
       "      <td>suboxon complet turn life around feel healthie...</td>\n",
       "      <td>0.147037</td>\n",
       "      <td>0.194444</td>\n",
       "    </tr>\n",
       "    <tr>\n",
       "      <th>4</th>\n",
       "      <td>155963</td>\n",
       "      <td>Cialis</td>\n",
       "      <td>Benign Prostatic Hyperplasia</td>\n",
       "      <td>\"2nd day on 5mg started to work with rock hard...</td>\n",
       "      <td>2</td>\n",
       "      <td>2015-11-28</td>\n",
       "      <td>43</td>\n",
       "      <td>0.0</td>\n",
       "      <td>2015</td>\n",
       "      <td>11</td>\n",
       "      <td>28</td>\n",
       "      <td>nd day mg start work rock hard erect howev exp...</td>\n",
       "      <td>-0.013889</td>\n",
       "      <td>0.003472</td>\n",
       "    </tr>\n",
       "  </tbody>\n",
       "</table>\n",
       "</div>"
      ],
      "text/plain": [
       "                           drugName                     condition  \\\n",
       "0  206461                 Valsartan  Left Ventricular Dysfunction   \n",
       "1   95260                Guanfacine                          ADHD   \n",
       "2   92703                    Lybrel                 Birth Control   \n",
       "3   35696  Buprenorphine / naloxone             Opiate Dependence   \n",
       "4  155963                    Cialis  Benign Prostatic Hyperplasia   \n",
       "\n",
       "                                              review  rating       date  \\\n",
       "0  \"It has no side effect, I take it in combinati...       9 2012-05-20   \n",
       "1  \"My son is halfway through his fourth week of ...       8 2010-04-27   \n",
       "2  \"I used to take another oral contraceptive, wh...       5 2009-12-14   \n",
       "3  \"Suboxone has completely turned my life around...       9 2016-11-27   \n",
       "4  \"2nd day on 5mg started to work with rock hard...       2 2015-11-28   \n",
       "\n",
       "   usefulCount  Review_Sentiment  Year  month  day  \\\n",
       "0           27               1.0  2012      5   20   \n",
       "1          192               1.0  2010      4   27   \n",
       "2           17               1.0  2009     12   14   \n",
       "3           37               1.0  2016     11   27   \n",
       "4           43               0.0  2015     11   28   \n",
       "\n",
       "                                        review_clean  Predict_Sentiment  \\\n",
       "0      no side effect take combin bystol mg fish oil           0.000000   \n",
       "1  son halfway fourth week intuniv becam concern ...           0.114583   \n",
       "2  use take anoth oral contracept pill cycl happi...           0.105000   \n",
       "3  suboxon complet turn life around feel healthie...           0.147037   \n",
       "4  nd day mg start work rock hard erect howev exp...          -0.013889   \n",
       "\n",
       "   Predict_Sentiment2  \n",
       "0            0.000000  \n",
       "1            0.168333  \n",
       "2            0.067210  \n",
       "3            0.194444  \n",
       "4            0.003472  "
      ]
     },
     "execution_count": 76,
     "metadata": {},
     "output_type": "execute_result"
    }
   ],
   "source": [
    "data.head()"
   ]
  },
  {
   "cell_type": "code",
   "execution_count": 77,
   "metadata": {
    "id": "9RxCk1uef7v2"
   },
   "outputs": [
    {
     "data": {
      "text/plain": [
       "array([[1.        , 0.34698703],\n",
       "       [0.34698703, 1.        ]])"
      ]
     },
     "execution_count": 77,
     "metadata": {},
     "output_type": "execute_result"
    }
   ],
   "source": [
    "# checkingg correlation between predict statement2 and rating\n",
    "\n",
    "np.corrcoef(data[\"Predict_Sentiment2\"], data[\"rating\"])\n"
   ]
  },
  {
   "cell_type": "code",
   "execution_count": 78,
   "metadata": {
    "id": "UpwBR4b9gEOk"
   },
   "outputs": [
    {
     "data": {
      "text/plain": [
       "array([[1.        , 0.30523853],\n",
       "       [0.30523853, 1.        ]])"
      ]
     },
     "execution_count": 78,
     "metadata": {},
     "output_type": "execute_result"
    }
   ],
   "source": [
    "# checking correlation between predict statement2 and sentiment\n",
    "\n",
    "np.corrcoef(data[\"Predict_Sentiment2\"], data[\"Review_Sentiment\"])"
   ]
  },
  {
   "cell_type": "code",
   "execution_count": 79,
   "metadata": {
    "id": "_WqvAOxPZ4Pl"
   },
   "outputs": [
    {
     "name": "stderr",
     "output_type": "stream",
     "text": [
      "c:\\Python311\\Lib\\site-packages\\numpy\\core\\fromnumeric.py:3464: RuntimeWarning: Mean of empty slice.\n",
      "  return _methods._mean(a, axis=axis, dtype=dtype,\n",
      "c:\\Python311\\Lib\\site-packages\\numpy\\core\\_methods.py:192: RuntimeWarning: invalid value encountered in scalar divide\n",
      "  ret = ret.dtype.type(ret / rcount)\n"
     ]
    }
   ],
   "source": [
    "# FEATURE ENGINEERING\n",
    "\n",
    "# word count in each unclean comment\n",
    "data['count_sent'] = data[\"review\"].apply(lambda x: len(re.findall(\"\\n\",str(x)))+1)\n",
    "\n",
    "# Word count in each comment:\n",
    "data['count_word'] = data[\"review_clean\"].apply(lambda x: len(str(x).split()))\n",
    "\n",
    "# Unique word count\n",
    "data['count_unique_word'] = data[\"review_clean\"].apply(lambda x: len(set(str(x).split())))\n",
    "\n",
    "# Letter count\n",
    "data['count_letters'] = data[\"review_clean\"].apply(lambda x: len(str(x)))\n",
    "\n",
    "# punctuation count\n",
    "import string\n",
    "data[\"count_punctuations\"] = data[\"review\"].apply(lambda x: len([c for c in str(x) if c in string.punctuation]))\n",
    "\n",
    "# upper case words count\n",
    "data[\"count_words_upper\"] = data[\"review\"].apply(lambda x: len([w for w in str(x).split() if w.isupper()]))\n",
    "\n",
    "# title case words count\n",
    "data[\"count_words_title\"] = data[\"review\"].apply(lambda x: len([w for w in str(x).split() if w.istitle()]))\n",
    "\n",
    "# Number of stopwords\n",
    "data[\"count_stopwords\"] = data[\"review\"].apply(lambda x: len([w for w in str(x).lower().split() if w in stops]))\n",
    "\n",
    "# Average length of the words\n",
    "data[\"mean_word_len\"] = data[\"review_clean\"].apply(lambda x: np.mean([len(w) for w in str(x).split()]))\n",
    "\n",
    "# adding season\n",
    "data['season'] = data[\"month\"].apply(lambda x: 1 if ((x>2) & (x<6)) else(2 if (x>5) & (x<9) else (3 if (x>8) & (x<12) else 4)))"
   ]
  },
  {
   "cell_type": "code",
   "execution_count": 81,
   "metadata": {
    "id": "q5QIMaCzd5uI"
   },
   "outputs": [],
   "source": [
    "from sklearn.metrics import roc_auc_score, precision_recall_curve, roc_curve, average_precision_score\n",
    "from sklearn.model_selection import KFold\n",
    "from lightgbm import LGBMClassifier\n",
    "\n",
    "folds = KFold(n_splits=5, shuffle=True, random_state=546789)\n",
    "target = df_train['Review_Sentiment']\n",
    "feats = ['usefulCount']\n",
    "trn_x, val_x, trn_y, val_y = train_test_split(df_train[feats], target, test_size=0.2, random_state=42) \n",
    "feature_importance_df = pd.DataFrame() \n",
    "    \n",
    "clf = LGBMClassifier(\n",
    "        n_estimators=10000,\n",
    "        learning_rate=0.10,\n",
    "        num_leaves=30,\n",
    "        #colsample_bytree=.9,\n",
    "        subsample=.9,\n",
    "        max_depth=7,\n",
    "        reg_alpha=.1,\n",
    "        reg_lambda=.1,\n",
    "        min_split_gain=.01,\n",
    "        min_child_weight=2,\n",
    "        silent=-1,\n",
    "        verbose=-1,\n",
    "        )\n",
    "clf.fit(trn_x, trn_y,  eval_set= [(trn_x, trn_y), (val_x, val_y)])\n",
    "\n",
    "sub_preds = clf.predict(df_test[feats])\n",
    "        \n",
    "fold_importance_df = pd.DataFrame()\n",
    "fold_importance_df[\"feature\"] = feats\n",
    "fold_importance_df[\"importance\"] = clf.feature_importances_\n",
    "feature_importance_df = pd.concat([feature_importance_df, fold_importance_df], axis=0)"
   ]
  },
  {
   "cell_type": "code",
   "execution_count": 82,
   "metadata": {
    "id": "xsyxB-hceFdh"
   },
   "outputs": [
    {
     "name": "stdout",
     "output_type": "stream",
     "text": [
      "0.7531905324113116\n"
     ]
    },
    {
     "data": {
      "text/plain": [
       "array([[    0,  8780],\n",
       "       [    0, 26794]], dtype=int64)"
      ]
     },
     "execution_count": 82,
     "metadata": {},
     "output_type": "execute_result"
    }
   ],
   "source": [
    "solution = df_test['Review_Sentiment']\n",
    "print(clf.score(df_test[feats],solution))\n",
    "confusion_matrix(y_pred=sub_preds, y_true=solution)"
   ]
  },
  {
   "cell_type": "code",
   "execution_count": 83,
   "metadata": {},
   "outputs": [
    {
     "data": {
      "text/html": [
       "<div>\n",
       "<style scoped>\n",
       "    .dataframe tbody tr th:only-of-type {\n",
       "        vertical-align: middle;\n",
       "    }\n",
       "\n",
       "    .dataframe tbody tr th {\n",
       "        vertical-align: top;\n",
       "    }\n",
       "\n",
       "    .dataframe thead th {\n",
       "        text-align: right;\n",
       "    }\n",
       "</style>\n",
       "<table border=\"1\" class=\"dataframe\">\n",
       "  <thead>\n",
       "    <tr style=\"text-align: right;\">\n",
       "      <th></th>\n",
       "      <th>Entry</th>\n",
       "      <th>Source</th>\n",
       "      <th>Positiv</th>\n",
       "      <th>Negativ</th>\n",
       "    </tr>\n",
       "  </thead>\n",
       "  <tbody>\n",
       "    <tr>\n",
       "      <th>0</th>\n",
       "      <td>A</td>\n",
       "      <td>H4Lvd</td>\n",
       "      <td>NaN</td>\n",
       "      <td>NaN</td>\n",
       "    </tr>\n",
       "    <tr>\n",
       "      <th>1</th>\n",
       "      <td>ABANDON</td>\n",
       "      <td>H4Lvd</td>\n",
       "      <td>NaN</td>\n",
       "      <td>Negativ</td>\n",
       "    </tr>\n",
       "    <tr>\n",
       "      <th>2</th>\n",
       "      <td>ABANDONMENT</td>\n",
       "      <td>H4</td>\n",
       "      <td>NaN</td>\n",
       "      <td>Negativ</td>\n",
       "    </tr>\n",
       "    <tr>\n",
       "      <th>3</th>\n",
       "      <td>ABATE</td>\n",
       "      <td>H4Lvd</td>\n",
       "      <td>NaN</td>\n",
       "      <td>Negativ</td>\n",
       "    </tr>\n",
       "    <tr>\n",
       "      <th>4</th>\n",
       "      <td>ABATEMENT</td>\n",
       "      <td>Lvd</td>\n",
       "      <td>NaN</td>\n",
       "      <td>NaN</td>\n",
       "    </tr>\n",
       "    <tr>\n",
       "      <th>5</th>\n",
       "      <td>ABDICATE</td>\n",
       "      <td>H4</td>\n",
       "      <td>NaN</td>\n",
       "      <td>Negativ</td>\n",
       "    </tr>\n",
       "    <tr>\n",
       "      <th>6</th>\n",
       "      <td>ABHOR</td>\n",
       "      <td>H4</td>\n",
       "      <td>NaN</td>\n",
       "      <td>Negativ</td>\n",
       "    </tr>\n",
       "    <tr>\n",
       "      <th>7</th>\n",
       "      <td>ABIDE</td>\n",
       "      <td>H4</td>\n",
       "      <td>Positiv</td>\n",
       "      <td>NaN</td>\n",
       "    </tr>\n",
       "    <tr>\n",
       "      <th>8</th>\n",
       "      <td>ABILITY</td>\n",
       "      <td>H4Lvd</td>\n",
       "      <td>Positiv</td>\n",
       "      <td>NaN</td>\n",
       "    </tr>\n",
       "    <tr>\n",
       "      <th>9</th>\n",
       "      <td>ABJECT</td>\n",
       "      <td>H4</td>\n",
       "      <td>NaN</td>\n",
       "      <td>Negativ</td>\n",
       "    </tr>\n",
       "  </tbody>\n",
       "</table>\n",
       "</div>"
      ],
      "text/plain": [
       "         Entry Source  Positiv  Negativ\n",
       "0            A  H4Lvd      NaN      NaN\n",
       "1      ABANDON  H4Lvd      NaN  Negativ\n",
       "2  ABANDONMENT     H4      NaN  Negativ\n",
       "3        ABATE  H4Lvd      NaN  Negativ\n",
       "4    ABATEMENT    Lvd      NaN      NaN\n",
       "5     ABDICATE     H4      NaN  Negativ\n",
       "6        ABHOR     H4      NaN  Negativ\n",
       "7        ABIDE     H4  Positiv      NaN\n",
       "8      ABILITY  H4Lvd  Positiv      NaN\n",
       "9       ABJECT     H4      NaN  Negativ"
      ]
     },
     "execution_count": 83,
     "metadata": {},
     "output_type": "execute_result"
    }
   ],
   "source": [
    "# Dictionary_Sentiment_Analysis\n",
    "# Because the package used for prediction of 'Predict value' is formed with movie review data, it can be unsuitable for this project which analyzes reviews\n",
    "# for drugs. To make up for this, we conducted additional emotional analysis using the Harvard emotional dictionary.\n",
    "\n",
    "# import dictionary data\n",
    "word_table = pd.read_csv(\"inquirerbasic.csv\")\n",
    "\n",
    "# checking the head of the dictionary\n",
    "word_table.head(10)"
   ]
  },
  {
   "cell_type": "code",
   "execution_count": 84,
   "metadata": {
    "id": "G2oCoDtsOSjc"
   },
   "outputs": [
    {
     "data": {
      "text/plain": [
       "1637"
      ]
     },
     "execution_count": 84,
     "metadata": {},
     "output_type": "execute_result"
    }
   ],
   "source": [
    "# make list of sentiment\n",
    "#Positiv word list   \n",
    "\n",
    "temp_Positiv = []\n",
    "Positiv_word_list = []\n",
    "for i in range(0,len(word_table.Positiv)):\n",
    "    if word_table.iloc[i,2] == \"Positiv\":\n",
    "        temp = word_table.iloc[i,0].lower()\n",
    "        temp1 = re.sub('\\d+', '', temp)\n",
    "        temp2 = re.sub('#', '', temp1) \n",
    "        temp_Positiv.append(temp2)\n",
    "\n",
    "Positiv_word_list = list(set(temp_Positiv))\n",
    "len(temp_Positiv)\n",
    "len(Positiv_word_list) "
   ]
  },
  {
   "cell_type": "code",
   "execution_count": 85,
   "metadata": {
    "id": "owAB0VJ8R1Sx"
   },
   "outputs": [
    {
     "data": {
      "text/plain": [
       "2006"
      ]
     },
     "execution_count": 85,
     "metadata": {},
     "output_type": "execute_result"
    }
   ],
   "source": [
    "#Negativ word list \n",
    "\n",
    "temp_Negativ = []\n",
    "Negativ_word_list = []\n",
    "for i in range(0,len(word_table.Negativ)):\n",
    "    if word_table.iloc[i,3] == \"Negativ\":\n",
    "        temp = word_table.iloc[i,0].lower()\n",
    "        temp1 = re.sub('\\d+', '', temp)\n",
    "        temp2 = re.sub('#', '', temp1) \n",
    "        temp_Negativ.append(temp2)\n",
    "\n",
    "Negativ_word_list = list(set(temp_Negativ))\n",
    "len(temp_Negativ)\n",
    "len(Negativ_word_list)"
   ]
  },
  {
   "cell_type": "code",
   "execution_count": 86,
   "metadata": {
    "id": "mk49MSRjSKNG"
   },
   "outputs": [],
   "source": [
    "##2. counting the word 98590\n",
    "\n",
    "import numpy as np\n",
    "from sklearn.feature_extraction.text import CountVectorizer\n",
    "\n",
    "vectorizer = CountVectorizer(vocabulary = Positiv_word_list)\n",
    "content = df_test['review_clean']\n",
    "X = vectorizer.fit_transform(content)\n",
    "f = X.toarray()\n",
    "f = pd.DataFrame(f)\n",
    "f.columns=Positiv_word_list\n",
    "df_test[\"num_Positiv_word\"] = f.sum(axis=1)\n",
    "\n",
    "vectorizer2 = CountVectorizer(vocabulary = Negativ_word_list)\n",
    "content = df_test['review_clean']\n",
    "X2 = vectorizer2.fit_transform(content)\n",
    "f2 = X2.toarray()\n",
    "f2 = pd.DataFrame(f2)\n",
    "f2.columns=Negativ_word_list\n",
    "df_test[\"num_Negativ_word\"] = f2.sum(axis=1)"
   ]
  },
  {
   "cell_type": "code",
   "execution_count": 87,
   "metadata": {
    "id": "dlP9PqzcSfpV"
   },
   "outputs": [
    {
     "data": {
      "text/html": [
       "<div>\n",
       "<style scoped>\n",
       "    .dataframe tbody tr th:only-of-type {\n",
       "        vertical-align: middle;\n",
       "    }\n",
       "\n",
       "    .dataframe tbody tr th {\n",
       "        vertical-align: top;\n",
       "    }\n",
       "\n",
       "    .dataframe thead th {\n",
       "        text-align: right;\n",
       "    }\n",
       "</style>\n",
       "<table border=\"1\" class=\"dataframe\">\n",
       "  <thead>\n",
       "    <tr style=\"text-align: right;\">\n",
       "      <th></th>\n",
       "      <th></th>\n",
       "      <th>drugName</th>\n",
       "      <th>condition</th>\n",
       "      <th>review</th>\n",
       "      <th>rating</th>\n",
       "      <th>date</th>\n",
       "      <th>usefulCount</th>\n",
       "      <th>Review_Sentiment</th>\n",
       "      <th>Year</th>\n",
       "      <th>month</th>\n",
       "      <th>day</th>\n",
       "      <th>review_clean</th>\n",
       "      <th>num_Positiv_word</th>\n",
       "      <th>num_Negativ_word</th>\n",
       "      <th>Positiv_ratio</th>\n",
       "      <th>sentiment_by_dic</th>\n",
       "    </tr>\n",
       "  </thead>\n",
       "  <tbody>\n",
       "    <tr>\n",
       "      <th>92236</th>\n",
       "      <td>186842</td>\n",
       "      <td>Fexofenadine / pseudoephedrine</td>\n",
       "      <td>Allergic Rhinitis</td>\n",
       "      <td>\"Allergra D, is the best medicine for my aller...</td>\n",
       "      <td>9</td>\n",
       "      <td>2009-07-10</td>\n",
       "      <td>18</td>\n",
       "      <td>1.0</td>\n",
       "      <td>2009</td>\n",
       "      <td>7</td>\n",
       "      <td>10</td>\n",
       "      <td>allergra best medicin allergi taken everi coun...</td>\n",
       "      <td>NaN</td>\n",
       "      <td>NaN</td>\n",
       "      <td>NaN</td>\n",
       "      <td>0.5</td>\n",
       "    </tr>\n",
       "    <tr>\n",
       "      <th>138379</th>\n",
       "      <td>21252</td>\n",
       "      <td>Focalin XR</td>\n",
       "      <td>ADHD</td>\n",
       "      <td>\"I have tried every ADHD drug medication avail...</td>\n",
       "      <td>10</td>\n",
       "      <td>2017-04-28</td>\n",
       "      <td>12</td>\n",
       "      <td>1.0</td>\n",
       "      <td>2017</td>\n",
       "      <td>4</td>\n",
       "      <td>28</td>\n",
       "      <td>tri everi adhd drug medic avail brand generic ...</td>\n",
       "      <td>NaN</td>\n",
       "      <td>NaN</td>\n",
       "      <td>NaN</td>\n",
       "      <td>0.5</td>\n",
       "    </tr>\n",
       "    <tr>\n",
       "      <th>86591</th>\n",
       "      <td>198835</td>\n",
       "      <td>Depo-Provera</td>\n",
       "      <td>Abnormal Uterine Bleeding</td>\n",
       "      <td>\"I took the shot for about a year but had to c...</td>\n",
       "      <td>1</td>\n",
       "      <td>2016-08-25</td>\n",
       "      <td>3</td>\n",
       "      <td>0.0</td>\n",
       "      <td>2016</td>\n",
       "      <td>8</td>\n",
       "      <td>25</td>\n",
       "      <td>took shot year come due medic problem shot ble...</td>\n",
       "      <td>NaN</td>\n",
       "      <td>NaN</td>\n",
       "      <td>NaN</td>\n",
       "      <td>0.5</td>\n",
       "    </tr>\n",
       "    <tr>\n",
       "      <th>17229</th>\n",
       "      <td>223944</td>\n",
       "      <td>Levonorgestrel</td>\n",
       "      <td>Emergency Contraception</td>\n",
       "      <td>\"It worked for me! I am 210 pounds and it work...</td>\n",
       "      <td>10</td>\n",
       "      <td>2016-12-08</td>\n",
       "      <td>7</td>\n",
       "      <td>1.0</td>\n",
       "      <td>2016</td>\n",
       "      <td>12</td>\n",
       "      <td>8</td>\n",
       "      <td>work pound work week ago condom fell without k...</td>\n",
       "      <td>1.0</td>\n",
       "      <td>6.0</td>\n",
       "      <td>0.142857</td>\n",
       "      <td>0.0</td>\n",
       "    </tr>\n",
       "    <tr>\n",
       "      <th>109781</th>\n",
       "      <td>98036</td>\n",
       "      <td>Nexplanon</td>\n",
       "      <td>Birth Control</td>\n",
       "      <td>\"I wanted this to work out so badly, since it ...</td>\n",
       "      <td>3</td>\n",
       "      <td>2015-08-21</td>\n",
       "      <td>4</td>\n",
       "      <td>0.0</td>\n",
       "      <td>2015</td>\n",
       "      <td>8</td>\n",
       "      <td>21</td>\n",
       "      <td>want work bad sinc effect birth control toler ...</td>\n",
       "      <td>NaN</td>\n",
       "      <td>NaN</td>\n",
       "      <td>NaN</td>\n",
       "      <td>0.5</td>\n",
       "    </tr>\n",
       "  </tbody>\n",
       "</table>\n",
       "</div>"
      ],
      "text/plain": [
       "                                      drugName                  condition  \\\n",
       "92236   186842  Fexofenadine / pseudoephedrine          Allergic Rhinitis   \n",
       "138379   21252                      Focalin XR                       ADHD   \n",
       "86591   198835                    Depo-Provera  Abnormal Uterine Bleeding   \n",
       "17229   223944                  Levonorgestrel    Emergency Contraception   \n",
       "109781   98036                       Nexplanon              Birth Control   \n",
       "\n",
       "                                                   review  rating       date  \\\n",
       "92236   \"Allergra D, is the best medicine for my aller...       9 2009-07-10   \n",
       "138379  \"I have tried every ADHD drug medication avail...      10 2017-04-28   \n",
       "86591   \"I took the shot for about a year but had to c...       1 2016-08-25   \n",
       "17229   \"It worked for me! I am 210 pounds and it work...      10 2016-12-08   \n",
       "109781  \"I wanted this to work out so badly, since it ...       3 2015-08-21   \n",
       "\n",
       "        usefulCount  Review_Sentiment  Year  month  day  \\\n",
       "92236            18               1.0  2009      7   10   \n",
       "138379           12               1.0  2017      4   28   \n",
       "86591             3               0.0  2016      8   25   \n",
       "17229             7               1.0  2016     12    8   \n",
       "109781            4               0.0  2015      8   21   \n",
       "\n",
       "                                             review_clean  num_Positiv_word  \\\n",
       "92236   allergra best medicin allergi taken everi coun...               NaN   \n",
       "138379  tri everi adhd drug medic avail brand generic ...               NaN   \n",
       "86591   took shot year come due medic problem shot ble...               NaN   \n",
       "17229   work pound work week ago condom fell without k...               1.0   \n",
       "109781  want work bad sinc effect birth control toler ...               NaN   \n",
       "\n",
       "        num_Negativ_word  Positiv_ratio  sentiment_by_dic  \n",
       "92236                NaN            NaN               0.5  \n",
       "138379               NaN            NaN               0.5  \n",
       "86591                NaN            NaN               0.5  \n",
       "17229                6.0       0.142857               0.0  \n",
       "109781               NaN            NaN               0.5  "
      ]
     },
     "execution_count": 87,
     "metadata": {},
     "output_type": "execute_result"
    }
   ],
   "source": [
    "# decide sentiment\n",
    "df_test[\"Positiv_ratio\"] = df_test[\"num_Positiv_word\"]/(df_test[\"num_Positiv_word\"]+df_test[\"num_Negativ_word\"])\n",
    "df_test[\"sentiment_by_dic\"] = df_test[\"Positiv_ratio\"].apply(lambda x: 1 if (x>=0.5) else (0 if (x<0.5) else 0.5))\n",
    "\n",
    "df_test.head()"
   ]
  },
  {
   "cell_type": "code",
   "execution_count": 88,
   "metadata": {
    "id": "yqToyJB5TYaR"
   },
   "outputs": [],
   "source": [
    "def userful_count(data):\n",
    "    grouped = data.groupby(['condition']).size().reset_index(name='user_size')\n",
    "    data = pd.merge(data, grouped, on='condition', how='left')\n",
    "    return data\n",
    "\n",
    "df_test =  userful_count(df_test) \n",
    "df_test['usefulCount'] = df_test['usefulCount']/df_test['user_size']"
   ]
  },
  {
   "cell_type": "code",
   "execution_count": 89,
   "metadata": {
    "id": "NcmLdKnKSrqK"
   },
   "outputs": [],
   "source": [
    "df_test['deep_pred'] = sub_preds_deep\n",
    "df_test['machine_pred'] = sub_preds\n",
    "\n",
    "df_test['total_pred'] = (df_test['deep_pred'] + df_test['machine_pred'] + df_test['sentiment_by_dic'])*df_test['usefulCount']"
   ]
  },
  {
   "cell_type": "code",
   "execution_count": 90,
   "metadata": {
    "id": "cUTCuxLCTnGs"
   },
   "outputs": [
    {
     "data": {
      "text/html": [
       "<div>\n",
       "<style scoped>\n",
       "    .dataframe tbody tr th:only-of-type {\n",
       "        vertical-align: middle;\n",
       "    }\n",
       "\n",
       "    .dataframe tbody tr th {\n",
       "        vertical-align: top;\n",
       "    }\n",
       "\n",
       "    .dataframe thead tr th {\n",
       "        text-align: left;\n",
       "    }\n",
       "\n",
       "    .dataframe thead tr:last-of-type th {\n",
       "        text-align: right;\n",
       "    }\n",
       "</style>\n",
       "<table border=\"1\" class=\"dataframe\">\n",
       "  <thead>\n",
       "    <tr>\n",
       "      <th></th>\n",
       "      <th></th>\n",
       "      <th>total_pred</th>\n",
       "    </tr>\n",
       "    <tr>\n",
       "      <th></th>\n",
       "      <th></th>\n",
       "      <th>mean</th>\n",
       "    </tr>\n",
       "    <tr>\n",
       "      <th>condition</th>\n",
       "      <th>drugName</th>\n",
       "      <th></th>\n",
       "    </tr>\n",
       "  </thead>\n",
       "  <tbody>\n",
       "    <tr>\n",
       "      <th rowspan=\"5\" valign=\"top\">ADHD</th>\n",
       "      <th>Adderall</th>\n",
       "      <td>0.166276</td>\n",
       "    </tr>\n",
       "    <tr>\n",
       "      <th>Adderall XR</th>\n",
       "      <td>0.103549</td>\n",
       "    </tr>\n",
       "    <tr>\n",
       "      <th>Amphetamine</th>\n",
       "      <td>0.020527</td>\n",
       "    </tr>\n",
       "    <tr>\n",
       "      <th>Amphetamine / dextroamphetamine</th>\n",
       "      <td>0.096934</td>\n",
       "    </tr>\n",
       "    <tr>\n",
       "      <th>Armodafinil</th>\n",
       "      <td>0.008675</td>\n",
       "    </tr>\n",
       "    <tr>\n",
       "      <th>...</th>\n",
       "      <th>...</th>\n",
       "      <td>...</td>\n",
       "    </tr>\n",
       "    <tr>\n",
       "      <th>mulation) (phenylephrine)</th>\n",
       "      <th>Phenylephrine</th>\n",
       "      <td>6.671322</td>\n",
       "    </tr>\n",
       "    <tr>\n",
       "      <th>ungal Pneumonia</th>\n",
       "      <th>Fluconazole</th>\n",
       "      <td>4.969722</td>\n",
       "    </tr>\n",
       "    <tr>\n",
       "      <th>von Willebrand's Disease</th>\n",
       "      <th>Stimate</th>\n",
       "      <td>5.156916</td>\n",
       "    </tr>\n",
       "    <tr>\n",
       "      <th rowspan=\"2\" valign=\"top\">zen Shoulde</th>\n",
       "      <th>Diclofenac</th>\n",
       "      <td>14.980756</td>\n",
       "    </tr>\n",
       "    <tr>\n",
       "      <th>Voltaren</th>\n",
       "      <td>36.692269</td>\n",
       "    </tr>\n",
       "  </tbody>\n",
       "</table>\n",
       "<p>3825 rows × 1 columns</p>\n",
       "</div>"
      ],
      "text/plain": [
       "                                                          total_pred\n",
       "                                                                mean\n",
       "condition                 drugName                                  \n",
       "ADHD                      Adderall                          0.166276\n",
       "                          Adderall XR                       0.103549\n",
       "                          Amphetamine                       0.020527\n",
       "                          Amphetamine / dextroamphetamine   0.096934\n",
       "                          Armodafinil                       0.008675\n",
       "...                                                              ...\n",
       "mulation) (phenylephrine) Phenylephrine                     6.671322\n",
       "ungal Pneumonia           Fluconazole                       4.969722\n",
       "von Willebrand's Disease  Stimate                           5.156916\n",
       "zen Shoulde               Diclofenac                       14.980756\n",
       "                          Voltaren                         36.692269\n",
       "\n",
       "[3825 rows x 1 columns]"
      ]
     },
     "execution_count": 90,
     "metadata": {},
     "output_type": "execute_result"
    }
   ],
   "source": [
    "df_test = df_test.groupby(['condition','drugName']).agg({'total_pred' : ['mean']})\n",
    "df_test"
   ]
  },
  {
   "cell_type": "code",
   "execution_count": 91,
   "metadata": {},
   "outputs": [
    {
     "data": {
      "text/html": [
       "<div>\n",
       "<style scoped>\n",
       "    .dataframe tbody tr th:only-of-type {\n",
       "        vertical-align: middle;\n",
       "    }\n",
       "\n",
       "    .dataframe tbody tr th {\n",
       "        vertical-align: top;\n",
       "    }\n",
       "\n",
       "    .dataframe thead tr th {\n",
       "        text-align: left;\n",
       "    }\n",
       "\n",
       "    .dataframe thead tr:last-of-type th {\n",
       "        text-align: right;\n",
       "    }\n",
       "</style>\n",
       "<table border=\"1\" class=\"dataframe\">\n",
       "  <thead>\n",
       "    <tr>\n",
       "      <th></th>\n",
       "      <th></th>\n",
       "      <th>total_pred</th>\n",
       "    </tr>\n",
       "    <tr>\n",
       "      <th></th>\n",
       "      <th></th>\n",
       "      <th>mean</th>\n",
       "    </tr>\n",
       "    <tr>\n",
       "      <th>condition</th>\n",
       "      <th>drugName</th>\n",
       "      <th></th>\n",
       "    </tr>\n",
       "  </thead>\n",
       "  <tbody>\n",
       "    <tr>\n",
       "      <th rowspan=\"36\" valign=\"top\">ADHD</th>\n",
       "      <th>Adderall</th>\n",
       "      <td>0.166276</td>\n",
       "    </tr>\n",
       "    <tr>\n",
       "      <th>Adderall XR</th>\n",
       "      <td>0.103549</td>\n",
       "    </tr>\n",
       "    <tr>\n",
       "      <th>Amphetamine</th>\n",
       "      <td>0.020527</td>\n",
       "    </tr>\n",
       "    <tr>\n",
       "      <th>Amphetamine / dextroamphetamine</th>\n",
       "      <td>0.096934</td>\n",
       "    </tr>\n",
       "    <tr>\n",
       "      <th>Armodafinil</th>\n",
       "      <td>0.008675</td>\n",
       "    </tr>\n",
       "    <tr>\n",
       "      <th>Atomoxetine</th>\n",
       "      <td>0.095370</td>\n",
       "    </tr>\n",
       "    <tr>\n",
       "      <th>Bupropion</th>\n",
       "      <td>0.175926</td>\n",
       "    </tr>\n",
       "    <tr>\n",
       "      <th>Clonidine</th>\n",
       "      <td>0.133089</td>\n",
       "    </tr>\n",
       "    <tr>\n",
       "      <th>Concerta</th>\n",
       "      <td>0.117147</td>\n",
       "    </tr>\n",
       "    <tr>\n",
       "      <th>Daytrana</th>\n",
       "      <td>0.050241</td>\n",
       "    </tr>\n",
       "    <tr>\n",
       "      <th>Desoxyn</th>\n",
       "      <td>0.229514</td>\n",
       "    </tr>\n",
       "    <tr>\n",
       "      <th>Dexedrine</th>\n",
       "      <td>0.204249</td>\n",
       "    </tr>\n",
       "    <tr>\n",
       "      <th>Dexmethylphenidate</th>\n",
       "      <td>0.089263</td>\n",
       "    </tr>\n",
       "    <tr>\n",
       "      <th>Dextroamphetamine</th>\n",
       "      <td>0.058090</td>\n",
       "    </tr>\n",
       "    <tr>\n",
       "      <th>Evekeo</th>\n",
       "      <td>0.036870</td>\n",
       "    </tr>\n",
       "    <tr>\n",
       "      <th>Focalin</th>\n",
       "      <td>0.095035</td>\n",
       "    </tr>\n",
       "    <tr>\n",
       "      <th>Focalin XR</th>\n",
       "      <td>0.108108</td>\n",
       "    </tr>\n",
       "    <tr>\n",
       "      <th>Guanfacine</th>\n",
       "      <td>0.119767</td>\n",
       "    </tr>\n",
       "    <tr>\n",
       "      <th>Imipramine</th>\n",
       "      <td>0.066511</td>\n",
       "    </tr>\n",
       "    <tr>\n",
       "      <th>Intuniv</th>\n",
       "      <td>0.176269</td>\n",
       "    </tr>\n",
       "    <tr>\n",
       "      <th>Lisdexamfetamine</th>\n",
       "      <td>0.095792</td>\n",
       "    </tr>\n",
       "    <tr>\n",
       "      <th>Metadate CD</th>\n",
       "      <td>0.136111</td>\n",
       "    </tr>\n",
       "    <tr>\n",
       "      <th>Methamphetamine</th>\n",
       "      <td>0.154647</td>\n",
       "    </tr>\n",
       "    <tr>\n",
       "      <th>Methylin</th>\n",
       "      <td>0.044746</td>\n",
       "    </tr>\n",
       "    <tr>\n",
       "      <th>Methylphenidate</th>\n",
       "      <td>0.090468</td>\n",
       "    </tr>\n",
       "    <tr>\n",
       "      <th>Modafinil</th>\n",
       "      <td>0.172890</td>\n",
       "    </tr>\n",
       "    <tr>\n",
       "      <th>Nuvigil</th>\n",
       "      <td>0.101992</td>\n",
       "    </tr>\n",
       "    <tr>\n",
       "      <th>Omega-3 polyunsaturated fatty acids</th>\n",
       "      <td>0.199532</td>\n",
       "    </tr>\n",
       "    <tr>\n",
       "      <th>Pristiq</th>\n",
       "      <td>0.053434</td>\n",
       "    </tr>\n",
       "    <tr>\n",
       "      <th>Ritalin</th>\n",
       "      <td>0.103150</td>\n",
       "    </tr>\n",
       "    <tr>\n",
       "      <th>Selegiline</th>\n",
       "      <td>0.049160</td>\n",
       "    </tr>\n",
       "    <tr>\n",
       "      <th>Strattera</th>\n",
       "      <td>0.079632</td>\n",
       "    </tr>\n",
       "    <tr>\n",
       "      <th>Vyvanse</th>\n",
       "      <td>0.084333</td>\n",
       "    </tr>\n",
       "    <tr>\n",
       "      <th>Wellbutrin</th>\n",
       "      <td>0.284290</td>\n",
       "    </tr>\n",
       "    <tr>\n",
       "      <th>Wellbutrin SR</th>\n",
       "      <td>0.533895</td>\n",
       "    </tr>\n",
       "    <tr>\n",
       "      <th>Wellbutrin XL</th>\n",
       "      <td>0.178912</td>\n",
       "    </tr>\n",
       "  </tbody>\n",
       "</table>\n",
       "</div>"
      ],
      "text/plain": [
       "                                              total_pred\n",
       "                                                    mean\n",
       "condition drugName                                      \n",
       "ADHD      Adderall                              0.166276\n",
       "          Adderall XR                           0.103549\n",
       "          Amphetamine                           0.020527\n",
       "          Amphetamine / dextroamphetamine       0.096934\n",
       "          Armodafinil                           0.008675\n",
       "          Atomoxetine                           0.095370\n",
       "          Bupropion                             0.175926\n",
       "          Clonidine                             0.133089\n",
       "          Concerta                              0.117147\n",
       "          Daytrana                              0.050241\n",
       "          Desoxyn                               0.229514\n",
       "          Dexedrine                             0.204249\n",
       "          Dexmethylphenidate                    0.089263\n",
       "          Dextroamphetamine                     0.058090\n",
       "          Evekeo                                0.036870\n",
       "          Focalin                               0.095035\n",
       "          Focalin XR                            0.108108\n",
       "          Guanfacine                            0.119767\n",
       "          Imipramine                            0.066511\n",
       "          Intuniv                               0.176269\n",
       "          Lisdexamfetamine                      0.095792\n",
       "          Metadate CD                           0.136111\n",
       "          Methamphetamine                       0.154647\n",
       "          Methylin                              0.044746\n",
       "          Methylphenidate                       0.090468\n",
       "          Modafinil                             0.172890\n",
       "          Nuvigil                               0.101992\n",
       "          Omega-3 polyunsaturated fatty acids   0.199532\n",
       "          Pristiq                               0.053434\n",
       "          Ritalin                               0.103150\n",
       "          Selegiline                            0.049160\n",
       "          Strattera                             0.079632\n",
       "          Vyvanse                               0.084333\n",
       "          Wellbutrin                            0.284290\n",
       "          Wellbutrin SR                         0.533895\n",
       "          Wellbutrin XL                         0.178912"
      ]
     },
     "execution_count": 91,
     "metadata": {},
     "output_type": "execute_result"
    }
   ],
   "source": [
    "df_test.head(36)"
   ]
  },
  {
   "cell_type": "code",
   "execution_count": 92,
   "metadata": {},
   "outputs": [],
   "source": [
    "sorted_df = df_test.sort_values(('total_pred', 'mean'), ascending=False)\n"
   ]
  },
  {
   "cell_type": "code",
   "execution_count": 93,
   "metadata": {},
   "outputs": [
    {
     "data": {
      "text/html": [
       "<div>\n",
       "<style scoped>\n",
       "    .dataframe tbody tr th:only-of-type {\n",
       "        vertical-align: middle;\n",
       "    }\n",
       "\n",
       "    .dataframe tbody tr th {\n",
       "        vertical-align: top;\n",
       "    }\n",
       "\n",
       "    .dataframe thead tr th {\n",
       "        text-align: left;\n",
       "    }\n",
       "\n",
       "    .dataframe thead tr:last-of-type th {\n",
       "        text-align: right;\n",
       "    }\n",
       "</style>\n",
       "<table border=\"1\" class=\"dataframe\">\n",
       "  <thead>\n",
       "    <tr>\n",
       "      <th></th>\n",
       "      <th></th>\n",
       "      <th>total_pred</th>\n",
       "    </tr>\n",
       "    <tr>\n",
       "      <th></th>\n",
       "      <th></th>\n",
       "      <th>mean</th>\n",
       "    </tr>\n",
       "    <tr>\n",
       "      <th>condition</th>\n",
       "      <th>drugName</th>\n",
       "      <th></th>\n",
       "    </tr>\n",
       "  </thead>\n",
       "  <tbody>\n",
       "    <tr>\n",
       "      <th>Glioblastoma Multiforme</th>\n",
       "      <th>Avastin</th>\n",
       "      <td>230.939824</td>\n",
       "    </tr>\n",
       "    <tr>\n",
       "      <th>Scabies</th>\n",
       "      <th>Permethrin</th>\n",
       "      <td>190.132668</td>\n",
       "    </tr>\n",
       "    <tr>\n",
       "      <th>Gastric Ulcer Maintenance Treatment</th>\n",
       "      <th>Zantac</th>\n",
       "      <td>151.216625</td>\n",
       "    </tr>\n",
       "    <tr>\n",
       "      <th>Hypotension</th>\n",
       "      <th>Midodrine</th>\n",
       "      <td>135.650208</td>\n",
       "    </tr>\n",
       "    <tr>\n",
       "      <th>Premature Ventricular Depolarizations</th>\n",
       "      <th>Bisoprolol</th>\n",
       "      <td>134.044316</td>\n",
       "    </tr>\n",
       "    <tr>\n",
       "      <th>Endoscopy or Radiology Premedication</th>\n",
       "      <th>Valium</th>\n",
       "      <td>128.506607</td>\n",
       "    </tr>\n",
       "    <tr>\n",
       "      <th>Body Dysmorphic Disorde</th>\n",
       "      <th>Fluoxetine</th>\n",
       "      <td>127.497033</td>\n",
       "    </tr>\n",
       "    <tr>\n",
       "      <th>Mild Cognitive Impairment</th>\n",
       "      <th>Aricept ODT</th>\n",
       "      <td>126.755112</td>\n",
       "    </tr>\n",
       "    <tr>\n",
       "      <th>mis</th>\n",
       "      <th>Dapsone</th>\n",
       "      <td>119.846051</td>\n",
       "    </tr>\n",
       "    <tr>\n",
       "      <th>Vitamin/Mineral Supplementation during Pregnancy/Lactation</th>\n",
       "      <th>Ferrous sulfate</th>\n",
       "      <td>106.244424</td>\n",
       "    </tr>\n",
       "    <tr>\n",
       "      <th>Glioblastoma Multi</th>\n",
       "      <th>Temozolomide</th>\n",
       "      <td>105.008062</td>\n",
       "    </tr>\n",
       "    <tr>\n",
       "      <th>Scabies</th>\n",
       "      <th>Ivermectin</th>\n",
       "      <td>97.846051</td>\n",
       "    </tr>\n",
       "    <tr>\n",
       "      <th>Peritonitis</th>\n",
       "      <th>Clindamycin</th>\n",
       "      <td>97.240387</td>\n",
       "    </tr>\n",
       "    <tr>\n",
       "      <th>Polycythemia Vera</th>\n",
       "      <th>Hydroxyurea</th>\n",
       "      <td>95.622278</td>\n",
       "    </tr>\n",
       "    <tr>\n",
       "      <th>Biliary Cirrhosis</th>\n",
       "      <th>Ursodiol</th>\n",
       "      <td>95.622278</td>\n",
       "    </tr>\n",
       "    <tr>\n",
       "      <th rowspan=\"2\" valign=\"top\">Breast Cancer, Adjuvant</th>\n",
       "      <th>Femara</th>\n",
       "      <td>89.765493</td>\n",
       "    </tr>\n",
       "    <tr>\n",
       "      <th>Letrozole</th>\n",
       "      <td>89.765493</td>\n",
       "    </tr>\n",
       "    <tr>\n",
       "      <th>Condylomata Acuminata</th>\n",
       "      <th>Imiquimod</th>\n",
       "      <td>87.703394</td>\n",
       "    </tr>\n",
       "    <tr>\n",
       "      <th>Peripheral Arterial Disease</th>\n",
       "      <th>Plavix</th>\n",
       "      <td>87.596036</td>\n",
       "    </tr>\n",
       "    <tr>\n",
       "      <th>Ovulation Induction</th>\n",
       "      <th>Clomid</th>\n",
       "      <td>86.430679</td>\n",
       "    </tr>\n",
       "    <tr>\n",
       "      <th>Vitamin B12 Deficiency</th>\n",
       "      <th>Cyanocobalamin</th>\n",
       "      <td>86.188695</td>\n",
       "    </tr>\n",
       "    <tr>\n",
       "      <th>Tic Disorde</th>\n",
       "      <th>Risperidone</th>\n",
       "      <td>84.993274</td>\n",
       "    </tr>\n",
       "    <tr>\n",
       "      <th>Typhoid Feve</th>\n",
       "      <th>Cipro</th>\n",
       "      <td>81.713217</td>\n",
       "    </tr>\n",
       "    <tr>\n",
       "      <th>Platelet Aggregation Inhibition</th>\n",
       "      <th>Plavix</th>\n",
       "      <td>80.055860</td>\n",
       "    </tr>\n",
       "    <tr>\n",
       "      <th>Aspergillosis, Aspergilloma</th>\n",
       "      <th>Itraconazole</th>\n",
       "      <td>77.832086</td>\n",
       "    </tr>\n",
       "    <tr>\n",
       "      <th>Pe</th>\n",
       "      <th>Propranolol</th>\n",
       "      <td>75.052369</td>\n",
       "    </tr>\n",
       "    <tr>\n",
       "      <th>Muscle Twitching</th>\n",
       "      <th>Baclofen</th>\n",
       "      <td>73.894620</td>\n",
       "    </tr>\n",
       "    <tr>\n",
       "      <th>Pemphigus</th>\n",
       "      <th>Rituxan</th>\n",
       "      <td>73.384539</td>\n",
       "    </tr>\n",
       "    <tr>\n",
       "      <th>Varicella-Zoste</th>\n",
       "      <th>Valtrex</th>\n",
       "      <td>71.840966</td>\n",
       "    </tr>\n",
       "    <tr>\n",
       "      <th>Nocturnal Leg Cramps</th>\n",
       "      <th>Carisoprodol</th>\n",
       "      <td>70.604821</td>\n",
       "    </tr>\n",
       "    <tr>\n",
       "      <th>Non-Hodgkin's Lymphoma</th>\n",
       "      <th>Rituxan</th>\n",
       "      <td>69.678249</td>\n",
       "    </tr>\n",
       "    <tr>\n",
       "      <th>Anemia, Chemotherapy Induced</th>\n",
       "      <th>Procrit</th>\n",
       "      <td>68.936991</td>\n",
       "    </tr>\n",
       "    <tr>\n",
       "      <th>Gender Dysphoria</th>\n",
       "      <th>Spironolactone</th>\n",
       "      <td>68.936991</td>\n",
       "    </tr>\n",
       "    <tr>\n",
       "      <th>Peripheral Arterial Disease</th>\n",
       "      <th>Clopidogrel</th>\n",
       "      <td>67.596036</td>\n",
       "    </tr>\n",
       "    <tr>\n",
       "      <th>Paroxysmal Supraventricular Tachycardia</th>\n",
       "      <th>Flecainide</th>\n",
       "      <td>67.227182</td>\n",
       "    </tr>\n",
       "    <tr>\n",
       "      <th>Peptic Ulce</th>\n",
       "      <th>Protonix</th>\n",
       "      <td>66.713217</td>\n",
       "    </tr>\n",
       "    <tr>\n",
       "      <th>B12 Nutritional Deficiency</th>\n",
       "      <th>Vitamin B12</th>\n",
       "      <td>66.713217</td>\n",
       "    </tr>\n",
       "    <tr>\n",
       "      <th>Anemia, Sickle Cell</th>\n",
       "      <th>Hydroxyurea</th>\n",
       "      <td>64.489443</td>\n",
       "    </tr>\n",
       "    <tr>\n",
       "      <th>Atherosclerosis</th>\n",
       "      <th>Crestor</th>\n",
       "      <td>62.265669</td>\n",
       "    </tr>\n",
       "    <tr>\n",
       "      <th>NSAID-Induced Ulcer Prophylaxis</th>\n",
       "      <th>Vimovo</th>\n",
       "      <td>62.265669</td>\n",
       "    </tr>\n",
       "  </tbody>\n",
       "</table>\n",
       "</div>"
      ],
      "text/plain": [
       "                                                                    total_pred\n",
       "                                                                          mean\n",
       "condition                                          drugName                   \n",
       "Glioblastoma Multiforme                            Avastin          230.939824\n",
       "Scabies                                            Permethrin       190.132668\n",
       "Gastric Ulcer Maintenance Treatment                Zantac           151.216625\n",
       "Hypotension                                        Midodrine        135.650208\n",
       "Premature Ventricular Depolarizations              Bisoprolol       134.044316\n",
       "Endoscopy or Radiology Premedication               Valium           128.506607\n",
       "Body Dysmorphic Disorde                            Fluoxetine       127.497033\n",
       "Mild Cognitive Impairment                          Aricept ODT      126.755112\n",
       "mis                                                Dapsone          119.846051\n",
       "Vitamin/Mineral Supplementation during Pregnanc... Ferrous sulfate  106.244424\n",
       "Glioblastoma Multi                                 Temozolomide     105.008062\n",
       "Scabies                                            Ivermectin        97.846051\n",
       "Peritonitis                                        Clindamycin       97.240387\n",
       "Polycythemia Vera                                  Hydroxyurea       95.622278\n",
       "Biliary Cirrhosis                                  Ursodiol          95.622278\n",
       "Breast Cancer, Adjuvant                            Femara            89.765493\n",
       "                                                   Letrozole         89.765493\n",
       "Condylomata Acuminata                              Imiquimod         87.703394\n",
       "Peripheral Arterial Disease                        Plavix            87.596036\n",
       "Ovulation Induction                                Clomid            86.430679\n",
       "Vitamin B12 Deficiency                             Cyanocobalamin    86.188695\n",
       "Tic Disorde                                        Risperidone       84.993274\n",
       "Typhoid Feve                                       Cipro             81.713217\n",
       "Platelet Aggregation Inhibition                    Plavix            80.055860\n",
       "Aspergillosis, Aspergilloma                        Itraconazole      77.832086\n",
       "Pe                                                 Propranolol       75.052369\n",
       "Muscle Twitching                                   Baclofen          73.894620\n",
       "Pemphigus                                          Rituxan           73.384539\n",
       "Varicella-Zoste                                    Valtrex           71.840966\n",
       "Nocturnal Leg Cramps                               Carisoprodol      70.604821\n",
       "Non-Hodgkin's Lymphoma                             Rituxan           69.678249\n",
       "Anemia, Chemotherapy Induced                       Procrit           68.936991\n",
       "Gender Dysphoria                                   Spironolactone    68.936991\n",
       "Peripheral Arterial Disease                        Clopidogrel       67.596036\n",
       "Paroxysmal Supraventricular Tachycardia            Flecainide        67.227182\n",
       "Peptic Ulce                                        Protonix          66.713217\n",
       "B12 Nutritional Deficiency                         Vitamin B12       66.713217\n",
       "Anemia, Sickle Cell                                Hydroxyurea       64.489443\n",
       "Atherosclerosis                                    Crestor           62.265669\n",
       "NSAID-Induced Ulcer Prophylaxis                    Vimovo            62.265669"
      ]
     },
     "execution_count": 93,
     "metadata": {},
     "output_type": "execute_result"
    }
   ],
   "source": [
    "sorted_df.head(40)"
   ]
  },
  {
   "cell_type": "code",
   "execution_count": 107,
   "metadata": {},
   "outputs": [
    {
     "name": "stdout",
     "output_type": "stream",
     "text": [
      "Drug with highest predicted value for condition 'Scabies': Permethrin\n"
     ]
    }
   ],
   "source": [
    "def get_drug_by_condition(sorted_df, condition):\n",
    "    # get predicted values for the condition\n",
    "    condition_df = sorted_df.loc[condition]\n",
    "    # get drug with highest predicted value\n",
    "    drug = condition_df[condition_df == condition_df.max()].index.get_level_values('drugName')[0]\n",
    "    return drug\n",
    "\n",
    "# example usage\n",
    "condition=input(\"Please enter condition:\")\n",
    "drug = get_drug_by_condition(sorted_df, condition)\n",
    "print(f\"Drug with highest predicted value for condition '{condition}': {drug}\")"
   ]
  }
 ],
 "metadata": {
  "accelerator": "GPU",
  "colab": {
   "provenance": []
  },
  "kernelspec": {
   "display_name": "Python 3 (ipykernel)",
   "language": "python",
   "name": "python3"
  },
  "language_info": {
   "codemirror_mode": {
    "name": "ipython",
    "version": 3
   },
   "file_extension": ".py",
   "mimetype": "text/x-python",
   "name": "python",
   "nbconvert_exporter": "python",
   "pygments_lexer": "ipython3",
   "version": "3.10.12"
  }
 },
 "nbformat": 4,
 "nbformat_minor": 1
}
